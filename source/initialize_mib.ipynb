{
 "metadata": {
  "language_info": {
   "codemirror_mode": {
    "name": "ipython",
    "version": 3
   },
   "file_extension": ".py",
   "mimetype": "text/x-python",
   "name": "python",
   "nbconvert_exporter": "python",
   "pygments_lexer": "ipython3",
   "version": "3.8.5-final"
  },
  "orig_nbformat": 2,
  "kernelspec": {
   "name": "python3",
   "display_name": "Python 3"
  }
 },
 "nbformat": 4,
 "nbformat_minor": 2,
 "cells": [
  {
   "cell_type": "code",
   "execution_count": 1,
   "metadata": {},
   "outputs": [],
   "source": [
    "import numpy as np\n",
    "import pandas as pd"
   ]
  },
  {
   "source": [
    "[MIB dataset](http://mib.projects.iit.cnr.it/dataset.html)"
   ],
   "cell_type": "markdown",
   "metadata": {}
  },
  {
   "cell_type": "code",
   "execution_count": 2,
   "metadata": {},
   "outputs": [],
   "source": [
    "def add_tweet_props(user_df,tweets_df):\n",
    "    user_df['recent_tweet_text'] = None\n",
    "    for index,row in user_df.iterrows():\n",
    "        # Get the tweets from this user \n",
    "        user_tweets = tweets_df.query(f'user_id == {row.id}')\n",
    "        total_tweets = user_tweets.shape[0]\n",
    "        retweets = user_tweets.query('retweeted_status_id > 0')\n",
    "        total_retweet_posts = retweets.shape[0]\n",
    "        replies = user_tweets.query('in_reply_to_status_id > 0')\n",
    "        total_reply_posts = replies.shape[0]\n",
    "\n",
    "\n",
    "        # Set how many tweets for this user are in the dataset\n",
    "        user_df.at[index, 'num_tweets_dataset'] = total_tweets\n",
    "        user_df.at[index, 'num_retweets_post_dataset'] = total_retweet_posts\n",
    "        user_df.at[index, 'num_reply_post_dataset'] = total_reply_posts\n",
    "\n",
    "        if total_tweets > 0:\n",
    "            # Set ratio of tweet type\n",
    "            user_df.at[index, 'retweet_post_percent'] = total_retweet_posts / total_tweets\n",
    "            user_df.at[index, 'reply_post_percent'] = total_reply_posts / total_tweets\n",
    "\n",
    "        # Set average number of various properties per tweet\n",
    "        user_df.at[index, 'avg_hashtags'] = user_tweets['num_hashtags'].mean()\n",
    "        user_df.at[index, 'avg_urls'] = user_tweets['num_urls'].mean()\n",
    "        user_df.at[index, 'avg_mentions'] = user_tweets['num_mentions'].mean()\n",
    "        user_df.at[index, 'avg_retweets_cnt'] = user_tweets['retweet_count'].mean()\n",
    "        user_df.at[index, 'avg_reply_cnt'] = user_tweets['reply_count'].mean()\n",
    "        user_df.at[index, 'avg_favorite_cnt'] = user_tweets['favorite_count'].mean()\n",
    "\n",
    "        if total_tweets >= 25:\n",
    "            # Get the 25 most recent tweets\n",
    "            user_tweets['timestamp'] = pd.to_datetime(user_tweets['timestamp'])\n",
    "            user_tweets.sort_values(by='timestamp',ascending=False,inplace=True)\n",
    "            recent_tweet_text = user_tweets[:25]['text'].tolist()\n",
    "            user_df.at[index, 'recent_tweet_text'] = recent_tweet_text\n"
   ]
  },
  {
   "cell_type": "code",
   "execution_count": 3,
   "metadata": {
    "tags": []
   },
   "outputs": [],
   "source": [
    "mib_fake_follower_users = pd.read_csv('../datasets/MIB/datasets_full.csv/fake_followers.csv/users.csv')\n",
    "mib_fake_follower_users['identification'] = 'bot'\n",
    "mib_fake_follower_tweets = pd.read_csv('../datasets/MIB/datasets_full.csv/fake_followers.csv/tweets.csv')\n",
    "add_tweet_props(mib_fake_follower_users,mib_fake_follower_tweets)"
   ]
  },
  {
   "cell_type": "code",
   "execution_count": 4,
   "metadata": {},
   "outputs": [],
   "source": [
    "mib_social_spambots_1_users = pd.read_csv('../datasets/MIB/datasets_full.csv/social_spambots_1.csv/users.csv')\n",
    "mib_social_spambots_1_users['identification'] = 'bot'\n",
    "mib_social_spambots_1_tweets = pd.read_csv('../datasets/MIB/datasets_full.csv/social_spambots_1.csv/tweets.csv')\n",
    "add_tweet_props(mib_social_spambots_1_users,mib_social_spambots_1_tweets)"
   ]
  },
  {
   "cell_type": "code",
   "execution_count": 5,
   "metadata": {},
   "outputs": [],
   "source": [
    "mib_social_spambots_2_users = pd.read_csv('../datasets/MIB/datasets_full.csv/social_spambots_2.csv/users.csv')\n",
    "mib_social_spambots_2_users['identification'] = 'bot'\n",
    "mib_social_spambots_2_tweets = pd.read_csv('../datasets/MIB/datasets_full.csv/social_spambots_2.csv/tweets.csv')\n",
    "add_tweet_props(mib_social_spambots_2_users,mib_social_spambots_2_tweets)"
   ]
  },
  {
   "cell_type": "code",
   "execution_count": 6,
   "metadata": {},
   "outputs": [],
   "source": [
    "mib_social_spambots_3_users = pd.read_csv('../datasets/MIB/datasets_full.csv/social_spambots_3.csv/users.csv')\n",
    "mib_social_spambots_3_users['identification'] = 'bot'\n",
    "mib_social_spambots_3_tweets = pd.read_csv('../datasets/MIB/datasets_full.csv/social_spambots_3.csv/tweets.csv')\n",
    "add_tweet_props(mib_social_spambots_3_users,mib_social_spambots_3_tweets)"
   ]
  },
  {
   "cell_type": "code",
   "execution_count": 7,
   "metadata": {},
   "outputs": [],
   "source": [
    "mib_traditional_spambots_1_users = pd.read_csv('../datasets/MIB/datasets_full.csv/traditional_spambots_1.csv/users.csv')\n",
    "mib_traditional_spambots_1_users['identification'] = 'bot'\n",
    "mib_traditional_spambots_1_tweets = pd.read_csv('../datasets/MIB/datasets_full.csv/traditional_spambots_1.csv/tweets.csv')\n",
    "add_tweet_props(mib_traditional_spambots_1_users,mib_traditional_spambots_1_tweets)"
   ]
  },
  {
   "cell_type": "code",
   "execution_count": 8,
   "metadata": {},
   "outputs": [],
   "source": [
    "mib_humans_users = pd.read_csv('../datasets/MIB/datasets_full.csv/genuine_accounts.csv/users.csv')\n",
    "mib_humans_users['identification'] = 'human'\n",
    "mib_humans_tweets = pd.read_csv('../datasets/MIB/datasets_full.csv/genuine_accounts.csv/tweets.csv',names=[\"id\",\"text\",\"source\",\"user_id\",\"truncated\",\"in_reply_to_status_id\",\"in_reply_to_user_id\",\"in_reply_to_screen_name\",\"retweeted_status_id\",\"geo_x\",\"geo_y\",\"place\",\"contributors\",\"retweet_count\",\"reply_count\",\"favorite_count\",\"favorited\",\"retweeted\",\"possibly_sensitive\",\"num_hashtags\",\"num_urls\",\"num_mentions\",\"created_at\",\"timestamp\",\"crawled_at\",\"updated\"], escapechar='\\\\', index_col=False)\n",
    "add_tweet_props(mib_humans_users,mib_humans_tweets)"
   ]
  },
  {
   "source": [
    "Combine all the users"
   ],
   "cell_type": "markdown",
   "metadata": {}
  },
  {
   "cell_type": "code",
   "execution_count": 9,
   "metadata": {},
   "outputs": [],
   "source": [
    "users = pd.concat([mib_fake_follower_users,mib_social_spambots_1_users,mib_social_spambots_2_users,mib_social_spambots_3_users,mib_traditional_spambots_1_users,mib_humans_users])\n",
    "users = users.query('num_tweets_dataset >= 25')"
   ]
  },
  {
   "cell_type": "code",
   "execution_count": 10,
   "metadata": {},
   "outputs": [],
   "source": [
    "users['geo_enabled'].fillna(0,inplace=True)\n",
    "users['default_profile'].fillna(0,inplace=True)\n",
    "users['default_profile_image'].fillna(0,inplace=True)\n",
    "users['verified'].fillna(0,inplace=True)\n"
   ]
  },
  {
   "cell_type": "code",
   "execution_count": 11,
   "metadata": {},
   "outputs": [],
   "source": [
    "users.to_csv('../datasets/MIB/mib_processed.csv')"
   ]
  }
 ]
}