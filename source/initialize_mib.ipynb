{
 "cells": [
  {
   "cell_type": "code",
   "execution_count": 2,
   "metadata": {},
   "outputs": [],
   "source": [
    "import numpy as np\n",
    "import pandas as pd"
   ]
  },
  {
   "cell_type": "markdown",
   "metadata": {},
   "source": [
    "[MIB dataset](http://mib.projects.iit.cnr.it/dataset.html)"
   ]
  },
  {
   "cell_type": "code",
   "execution_count": 3,
   "metadata": {},
   "outputs": [],
   "source": [
    "new_columns = ['num_tweets_dataset', 'num_retweets_post_dataset', 'num_reply_post_dataset', \n",
    "               'retweet_post_percent', 'reply_post_percent', 'avg_hashtags', 'avg_urls',\n",
    "               'avg_mentions', 'avg_retweets_cnt', 'avg_reply_cnt', 'avg_favorite_cnt']\n",
    "\n",
    "def add_columns(df, columns):\n",
    "    for col in columns:\n",
    "        if col not in df.columns:\n",
    "            df[col] = None\n",
    "\n",
    "def add_tweet_props(user_df,tweets_df):\n",
    "    add_columns(user_df, new_columns)\n",
    "    \n",
    "    for userid in user_df['id']:\n",
    "        # Get the tweets from this user \n",
    "        user_tweets = tweets_df.query(f'user_id == {userid}')\n",
    "        total_tweets = user_tweets.shape[0]\n",
    "        retweets = user_tweets.query('retweeted_status_id > 0')\n",
    "        total_retweet_posts = retweets.shape[0]\n",
    "        replies = user_tweets.query('in_reply_to_status_id > 0')\n",
    "        total_reply_posts = replies.shape[0]\n",
    "\n",
    "        # Set how many tweets for this user are in the dataset\n",
    "        user_df.loc[user_df['id'] == userid, ['num_tweets_dataset']] = total_tweets\n",
    "        user_df.loc[user_df['id'] == userid, ['num_retweets_post_dataset']] = total_retweet_posts\n",
    "        user_df.loc[user_df['id'] == userid, ['num_reply_post_dataset']] = total_reply_posts\n",
    "\n",
    "        if total_tweets > 0:\n",
    "            # Set ratio of tweet type\n",
    "            user_df.loc[user_df['id'] == userid, ['retweet_post_percent']] = total_retweet_posts / total_tweets\n",
    "            user_df.loc[user_df['id'] == userid, ['reply_post_percent']] = total_reply_posts / total_tweets\n",
    "\n",
    "        # Set average number of various properties per tweet\n",
    "        user_df.loc[user_df['id'] == userid, ['avg_hashtags']] = user_tweets['num_hashtags'].mean()\n",
    "        user_df.loc[user_df['id'] == userid, ['avg_urls']] = user_tweets['num_urls'].mean()\n",
    "        user_df.loc[user_df['id'] == userid, ['avg_mentions']] = user_tweets['num_mentions'].mean()\n",
    "        user_df.loc[user_df['id'] == userid, ['avg_retweets_cnt']] = user_tweets['retweet_count'].mean()\n",
    "        user_df.loc[user_df['id'] == userid, ['avg_reply_cnt']] = user_tweets['reply_count'].mean()\n",
    "        user_df.loc[user_df['id'] == userid, ['avg_favorite_cnt']] = user_tweets['favorite_count'].mean()\n"
   ]
  },
  {
   "cell_type": "code",
   "execution_count": null,
   "metadata": {},
   "outputs": [
    {
     "name": "stderr",
     "output_type": "stream",
     "text": [
      "C:\\Users\\spdev\\Anaconda3\\lib\\site-packages\\IPython\\core\\interactiveshell.py:3058: DtypeWarning: Columns (8,11) have mixed types. Specify dtype option on import or set low_memory=False.\n",
      "  interactivity=interactivity, compiler=compiler, result=result)\n"
     ]
    }
   ],
   "source": [
    "mib_fake_follower_users = pd.read_csv('../datasets/MIB/datasets_full.csv/fake_followers.csv/users.csv')\n",
    "mib_fake_follower_users['identification'] = 'bot'\n",
    "mib_fake_follower_tweets = pd.read_csv('../datasets/MIB/datasets_full.csv/fake_followers.csv/tweets.csv')\n",
    "add_tweet_props(mib_fake_follower_users,mib_fake_follower_tweets)"
   ]
  },
  {
   "cell_type": "code",
   "execution_count": null,
   "metadata": {},
   "outputs": [],
   "source": [
    "mib_social_spambots_1_users = pd.read_csv('../datasets/MIB/datasets_full.csv/social_spambots_1.csv/users.csv')\n",
    "mib_social_spambots_1_users['identification'] = 'bot'\n",
    "mib_social_spambots_1_tweets = pd.read_csv('../datasets/MIB/datasets_full.csv/social_spambots_1.csv/tweets.csv')\n",
    "add_tweet_props(mib_social_spambots_1_users,mib_social_spambots_1_tweets)"
   ]
  },
  {
   "cell_type": "code",
   "execution_count": null,
   "metadata": {},
   "outputs": [],
   "source": [
    "mib_social_spambots_2_users = pd.read_csv('../datasets/MIB/datasets_full.csv/social_spambots_2.csv/users.csv')\n",
    "mib_social_spambots_2_users['identification'] = 'bot'\n",
    "mib_social_spambots_2_tweets = pd.read_csv('../datasets/MIB/datasets_full.csv/social_spambots_2.csv/tweets.csv')\n",
    "add_tweet_props(mib_social_spambots_2_users,mib_social_spambots_2_tweets)"
   ]
  },
  {
   "cell_type": "code",
   "execution_count": null,
   "metadata": {},
   "outputs": [],
   "source": [
    "mib_social_spambots_3_users = pd.read_csv('../datasets/MIB/datasets_full.csv/social_spambots_3.csv/users.csv')\n",
    "mib_social_spambots_3_users['identification'] = 'bot'\n",
    "mib_social_spambots_3_tweets = pd.read_csv('../datasets/MIB/datasets_full.csv/social_spambots_3.csv/tweets.csv')\n",
    "add_tweet_props(mib_social_spambots_3_users,mib_social_spambots_3_tweets)"
   ]
  },
  {
   "cell_type": "code",
   "execution_count": null,
   "metadata": {},
   "outputs": [],
   "source": [
    "mib_traditional_spambots_1_users = pd.read_csv('../datasets/MIB/datasets_full.csv/traditional_spambots_1.csv/users.csv')\n",
    "mib_traditional_spambots_1_users['identification'] = 'bot'\n",
    "mib_traditional_spambots_1_tweets = pd.read_csv('../datasets/MIB/datasets_full.csv/traditional_spambots_1.csv/tweets.csv')\n",
    "add_tweet_props(mib_traditional_spambots_1_users,mib_traditional_spambots_1_tweets)"
   ]
  },
  {
   "cell_type": "code",
   "execution_count": null,
   "metadata": {},
   "outputs": [],
   "source": [
    "mib_humans_users = pd.read_csv('../datasets/MIB/datasets_full.csv/genuine_accounts.csv/users.csv')\n",
    "mib_humans_users['identification'] = 'human'\n",
    "mib_humans_tweets = pd.read_csv('../datasets/MIB/datasets_full.csv/genuine_accounts.csv/tweets.csv',names=[\"id\",\"text\",\"source\",\"user_id\",\"truncated\",\"in_reply_to_status_id\",\"in_reply_to_user_id\",\"in_reply_to_screen_name\",\"retweeted_status_id\",\"geo_x\",\"geo_y\",\"place\",\"contributors\",\"retweet_count\",\"reply_count\",\"favorite_count\",\"favorited\",\"retweeted\",\"possibly_sensitive\",\"num_hashtags\",\"num_urls\",\"num_mentions\",\"created_at\",\"timestamp\",\"crawled_at\",\"updated\"], escapechar='\\\\', index_col=False)\n",
    "add_tweet_props(mib_humans_users,mib_humans_tweets)"
   ]
  },
  {
   "cell_type": "markdown",
   "metadata": {},
   "source": [
    "Combine all the users"
   ]
  },
  {
   "cell_type": "code",
   "execution_count": null,
   "metadata": {},
   "outputs": [],
   "source": [
    "users = pd.concat([mib_fake_follower_users,mib_social_spambots_1_users,mib_social_spambots_2_users,mib_social_spambots_3_users,mib_traditional_spambots_1_users,mib_humans_users])\n",
    "users = users.query('num_tweets_dataset >= 10')"
   ]
  },
  {
   "cell_type": "code",
   "execution_count": null,
   "metadata": {},
   "outputs": [],
   "source": [
    "users['geo_enabled'].fillna(0,inplace=True)\n",
    "users['default_profile'].fillna(0,inplace=True)\n",
    "users['default_profile_image'].fillna(0,inplace=True)\n",
    "users['verified'].fillna(0,inplace=True)\n"
   ]
  },
  {
   "cell_type": "code",
   "execution_count": null,
   "metadata": {},
   "outputs": [],
   "source": [
    "users.to_csv('../datasets/MIB/mib_processed.csv')"
   ]
  }
 ],
 "metadata": {
  "kernelspec": {
   "display_name": "Python 3",
   "language": "python",
   "name": "python3"
  },
  "language_info": {
   "codemirror_mode": {
    "name": "ipython",
    "version": 3
   },
   "file_extension": ".py",
   "mimetype": "text/x-python",
   "name": "python",
   "nbconvert_exporter": "python",
   "pygments_lexer": "ipython3",
   "version": "3.7.4"
  }
 },
 "nbformat": 4,
 "nbformat_minor": 2
}
