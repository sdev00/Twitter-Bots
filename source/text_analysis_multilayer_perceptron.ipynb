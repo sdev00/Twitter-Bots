{
 "cells": [
  {
   "cell_type": "markdown",
   "metadata": {},
   "source": [
    "## Notebook: multilayer_perceptron.ipynb\n",
    "\n",
    "This notebook is used for building a neural_network classifier."
   ]
  },
  {
   "cell_type": "code",
   "execution_count": 1,
   "metadata": {},
   "outputs": [],
   "source": [
    "import pandas as pd\n",
    "from sklearn.neural_network import MLPClassifier\n",
    "from sklearn.model_selection import train_test_split\n",
    "from sklearn.metrics import accuracy_score, classification_report\n",
    "from warnings import filterwarnings"
   ]
  },
  {
   "cell_type": "markdown",
   "metadata": {},
   "source": [
    "### Data Preparation"
   ]
  },
  {
   "cell_type": "code",
   "execution_count": 2,
   "metadata": {},
   "outputs": [],
   "source": [
    "data = pd.read_csv('../datasets/MIB/mib_processed_text_standardized.csv')\n",
    "X_labels = list(data.columns)\n",
    "Y_label = 'identification'\n",
    "\n",
    "# use all except identification for inputs\n",
    "X = data.drop(columns=[Y_label])\n",
    "y = data[Y_label]\n",
    "X_train, X_test, y_train, y_test = train_test_split(X, y, test_size=0.30, random_state=42)"
   ]
  },
  {
   "cell_type": "markdown",
   "metadata": {},
   "source": [
    "### Multilayer Perceptron Classifier\n",
    "\n",
    "**Hidden layers = 1**\\\n",
    "**Solver = L-BFGS** \\\n",
    "**Activation = ReLU**"
   ]
  },
  {
   "cell_type": "code",
   "execution_count": 3,
   "metadata": {},
   "outputs": [
    {
     "data": {
      "text/plain": [
       "0.9803407601572739"
      ]
     },
     "execution_count": 3,
     "metadata": {},
     "output_type": "execute_result"
    }
   ],
   "source": [
    "mlp_1 = MLPClassifier(solver='lbfgs', hidden_layer_sizes=(20,), alpha=1e-4, activation='relu', random_state=1)\n",
    "mlp_1_pred = mlp_1.fit(X_train, y_train).predict(X_test)\n",
    "accuracy_score(mlp_1_pred, y_test)"
   ]
  },
  {
   "cell_type": "code",
   "execution_count": 4,
   "metadata": {},
   "outputs": [
    {
     "name": "stdout",
     "output_type": "stream",
     "text": [
      "              precision    recall  f1-score   support\n",
      "\n",
      "         bot       0.99      0.98      0.99      2056\n",
      "       human       0.97      0.97      0.97       996\n",
      "\n",
      "    accuracy                           0.98      3052\n",
      "   macro avg       0.98      0.98      0.98      3052\n",
      "weighted avg       0.98      0.98      0.98      3052\n",
      "\n"
     ]
    }
   ],
   "source": [
    "print(classification_report(mlp_1_pred, y_test))"
   ]
  },
  {
   "cell_type": "markdown",
   "metadata": {},
   "source": [
    "### Multilayer Perceptron Classifier\n",
    "\n",
    "**Hidden layers = 1**\\\n",
    "**Solver = Adam** \\\n",
    "**Activation = ReLU**"
   ]
  },
  {
   "cell_type": "code",
   "execution_count": 14,
   "metadata": {},
   "outputs": [
    {
     "data": {
      "text/plain": [
       "0.9809960681520314"
      ]
     },
     "execution_count": 14,
     "metadata": {},
     "output_type": "execute_result"
    }
   ],
   "source": [
    "# ignores ConvergenceWarning in MLPClassifier.fit()\n",
    "filterwarnings('ignore')\n",
    "\n",
    "mlp_1_adam = MLPClassifier(solver='adam', hidden_layer_sizes=(20,), alpha=1e-4, activation='relu', max_iter=300, random_state=1)\n",
    "mlp_1_adam_pred = mlp_1_adam.fit(X_train, y_train).predict(X_test)\n",
    "accuracy_score(mlp_1_adam_pred, y_test)"
   ]
  },
  {
   "cell_type": "code",
   "execution_count": 6,
   "metadata": {},
   "outputs": [
    {
     "name": "stdout",
     "output_type": "stream",
     "text": [
      "              precision    recall  f1-score   support\n",
      "\n",
      "         bot       0.99      0.99      0.99      2050\n",
      "       human       0.97      0.97      0.97      1002\n",
      "\n",
      "    accuracy                           0.98      3052\n",
      "   macro avg       0.98      0.98      0.98      3052\n",
      "weighted avg       0.98      0.98      0.98      3052\n",
      "\n"
     ]
    }
   ],
   "source": [
    "print(classification_report(mlp_1_adam_pred, y_test))"
   ]
  },
  {
   "cell_type": "markdown",
   "metadata": {},
   "source": [
    "### Multilayer Perceptron Classifier\n",
    "\n",
    "**Hidden layers = 2**\\\n",
    "**Solver = L-BFGS** \\\n",
    "**Activation = ReLU**"
   ]
  },
  {
   "cell_type": "code",
   "execution_count": 13,
   "metadata": {},
   "outputs": [
    {
     "data": {
      "text/plain": [
       "0.9803407601572739"
      ]
     },
     "execution_count": 13,
     "metadata": {},
     "output_type": "execute_result"
    }
   ],
   "source": [
    "mlp_2 = MLPClassifier(solver='lbfgs', hidden_layer_sizes=(20, 20), alpha=1e-4, activation='relu', random_state=1)\n",
    "mlp_2_pred = mlp_2.fit(X_train, y_train).predict(X_test)\n",
    "accuracy_score(mlp_2_pred, y_test)"
   ]
  },
  {
   "cell_type": "code",
   "execution_count": 8,
   "metadata": {},
   "outputs": [
    {
     "name": "stdout",
     "output_type": "stream",
     "text": [
      "              precision    recall  f1-score   support\n",
      "\n",
      "         bot       0.99      0.98      0.99      2052\n",
      "       human       0.97      0.97      0.97      1000\n",
      "\n",
      "    accuracy                           0.98      3052\n",
      "   macro avg       0.98      0.98      0.98      3052\n",
      "weighted avg       0.98      0.98      0.98      3052\n",
      "\n"
     ]
    }
   ],
   "source": [
    "print(classification_report(mlp_2_pred, y_test))"
   ]
  },
  {
   "cell_type": "markdown",
   "metadata": {},
   "source": [
    "### Multilayer Perceptron Classifier\n",
    "\n",
    "**Hidden layers = 2**\\\n",
    "**Solver = Adam** \\\n",
    "**Activation = ReLU**"
   ]
  },
  {
   "cell_type": "code",
   "execution_count": 9,
   "metadata": {},
   "outputs": [
    {
     "data": {
      "text/plain": [
       "0.97870249017038"
      ]
     },
     "execution_count": 9,
     "metadata": {},
     "output_type": "execute_result"
    }
   ],
   "source": [
    "# ignores ConvergenceWarning in MLPClassifier.fit()\n",
    "filterwarnings('ignore')\n",
    "\n",
    "mlp_2_adam = MLPClassifier(solver='adam', hidden_layer_sizes=(20, 20), alpha=1e-4, activation='relu', max_iter=300, random_state=1)\n",
    "mlp_2_adam_pred = mlp_2_adam.fit(X_train, y_train).predict(X_test)\n",
    "accuracy_score(mlp_2_adam_pred, y_test)"
   ]
  },
  {
   "cell_type": "code",
   "execution_count": 10,
   "metadata": {},
   "outputs": [
    {
     "name": "stdout",
     "output_type": "stream",
     "text": [
      "              precision    recall  f1-score   support\n",
      "\n",
      "         bot       0.99      0.98      0.98      2053\n",
      "       human       0.96      0.97      0.97       999\n",
      "\n",
      "    accuracy                           0.98      3052\n",
      "   macro avg       0.98      0.98      0.98      3052\n",
      "weighted avg       0.98      0.98      0.98      3052\n",
      "\n"
     ]
    }
   ],
   "source": [
    "print(classification_report(mlp_2_adam_pred, y_test))"
   ]
  }
 ],
 "metadata": {
  "kernelspec": {
   "display_name": "Python 3",
   "language": "python",
   "name": "python3"
  },
  "language_info": {
   "codemirror_mode": {
    "name": "ipython",
    "version": 3
   },
   "file_extension": ".py",
   "mimetype": "text/x-python",
   "name": "python",
   "nbconvert_exporter": "python",
   "pygments_lexer": "ipython3",
   "version": "3.7.4"
  }
 },
 "nbformat": 4,
 "nbformat_minor": 2
}
