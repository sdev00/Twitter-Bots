{
 "cells": [
  {
   "cell_type": "markdown",
   "metadata": {},
   "source": [
    "## Notebook: text_analysis_logistic_regression.ipynb\n",
    "\n",
    "This notebook is used for building logistic regression classifiers.\n",
    "\n",
    "**Uses updated dataset with text analysis.**"
   ]
  },
  {
   "cell_type": "code",
   "execution_count": 18,
   "metadata": {},
   "outputs": [],
   "source": [
    "import pandas as pd\n",
    "from sklearn.linear_model import LogisticRegression\n",
    "from sklearn.model_selection import train_test_split\n",
    "from sklearn.metrics import accuracy_score, classification_report"
   ]
  },
  {
   "cell_type": "markdown",
   "metadata": {},
   "source": [
    "### Data Preparation"
   ]
  },
  {
   "cell_type": "code",
   "execution_count": 19,
   "metadata": {},
   "outputs": [],
   "source": [
    "data = pd.read_csv('../datasets/MIB/mib_processed_text_standardized.csv')\n",
    "X_labels = list(data.columns)\n",
    "Y_label = 'identification'\n",
    "\n",
    "# use all except identification for inputs\n",
    "X = data.drop(columns=[Y_label])\n",
    "y = data[Y_label]\n",
    "X_train, X_test, y_train, y_test = train_test_split(X, y, test_size=0.30, random_state=42)"
   ]
  },
  {
   "cell_type": "markdown",
   "metadata": {},
   "source": [
    "### Logistic Regression Classifier\n",
    "\n",
    "**Penalty = L1**"
   ]
  },
  {
   "cell_type": "code",
   "execution_count": 20,
   "metadata": {},
   "outputs": [
    {
     "data": {
      "text/plain": [
       "0.9613368283093053"
      ]
     },
     "execution_count": 20,
     "metadata": {},
     "output_type": "execute_result"
    }
   ],
   "source": [
    "logistic_regression_l1 = LogisticRegression(solver='liblinear', penalty='l1', random_state=0)\n",
    "l1_y_pred = logistic_regression_l1.fit(X_train, y_train).predict(X_test)\n",
    "accuracy_score(l1_y_pred, y_test)"
   ]
  },
  {
   "cell_type": "code",
   "execution_count": 21,
   "metadata": {},
   "outputs": [
    {
     "name": "stdout",
     "output_type": "stream",
     "text": [
      "              precision    recall  f1-score   support\n",
      "\n",
      "         bot       0.98      0.96      0.97      2094\n",
      "       human       0.92      0.96      0.94       958\n",
      "\n",
      "    accuracy                           0.96      3052\n",
      "   macro avg       0.95      0.96      0.96      3052\n",
      "weighted avg       0.96      0.96      0.96      3052\n",
      "\n"
     ]
    }
   ],
   "source": [
    "print(classification_report(l1_y_pred, y_test))"
   ]
  },
  {
   "cell_type": "markdown",
   "metadata": {},
   "source": [
    "### Logistic Regression Classifier\n",
    "\n",
    "**Penalty = L2**"
   ]
  },
  {
   "cell_type": "code",
   "execution_count": 22,
   "metadata": {},
   "outputs": [
    {
     "data": {
      "text/plain": [
       "0.959043250327654"
      ]
     },
     "execution_count": 22,
     "metadata": {},
     "output_type": "execute_result"
    }
   ],
   "source": [
    "logistic_regression_l2 = LogisticRegression(solver='liblinear', penalty='l2', random_state=0)\n",
    "l2_y_pred = logistic_regression_l2.fit(X_train, y_train).predict(X_test)\n",
    "accuracy_score(l2_y_pred, y_test)"
   ]
  },
  {
   "cell_type": "code",
   "execution_count": 23,
   "metadata": {},
   "outputs": [
    {
     "name": "stdout",
     "output_type": "stream",
     "text": [
      "              precision    recall  f1-score   support\n",
      "\n",
      "         bot       0.98      0.96      0.97      2097\n",
      "       human       0.91      0.96      0.94       955\n",
      "\n",
      "    accuracy                           0.96      3052\n",
      "   macro avg       0.95      0.96      0.95      3052\n",
      "weighted avg       0.96      0.96      0.96      3052\n",
      "\n"
     ]
    }
   ],
   "source": [
    "print(classification_report(l2_y_pred, y_test))"
   ]
  }
 ],
 "metadata": {
  "kernelspec": {
   "display_name": "Python 3",
   "language": "python",
   "name": "python3"
  },
  "language_info": {
   "codemirror_mode": {
    "name": "ipython",
    "version": 3
   },
   "file_extension": ".py",
   "mimetype": "text/x-python",
   "name": "python",
   "nbconvert_exporter": "python",
   "pygments_lexer": "ipython3",
   "version": "3.7.4"
  }
 },
 "nbformat": 4,
 "nbformat_minor": 2
}
