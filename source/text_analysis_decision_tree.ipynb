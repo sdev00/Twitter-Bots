{
 "cells": [
  {
   "cell_type": "markdown",
   "metadata": {},
   "source": [
    "## Notebook: decision_tree.ipynb\n",
    "\n",
    "This notebook is used for building decision tree and random forest classifiers."
   ]
  },
  {
   "cell_type": "code",
   "execution_count": 33,
   "metadata": {},
   "outputs": [],
   "source": [
    "import pandas as pd\n",
    "from sklearn.tree import DecisionTreeClassifier\n",
    "from sklearn.ensemble import RandomForestClassifier\n",
    "from sklearn.model_selection import train_test_split\n",
    "from sklearn.metrics import accuracy_score, classification_report"
   ]
  },
  {
   "cell_type": "markdown",
   "metadata": {},
   "source": [
    "### Data Preparation"
   ]
  },
  {
   "cell_type": "code",
   "execution_count": 34,
   "metadata": {},
   "outputs": [],
   "source": [
    "data = pd.read_csv('../datasets/MIB/mib_processed_text_standardized.csv')\n",
    "X_labels = list(data.columns)\n",
    "Y_label = 'identification'\n",
    "\n",
    "# use all except identification for inputs\n",
    "X = data.drop(columns=[Y_label])\n",
    "y = data[Y_label]\n",
    "X_train, X_test, y_train, y_test = train_test_split(X, y, test_size=0.30, random_state=42)"
   ]
  },
  {
   "cell_type": "markdown",
   "metadata": {},
   "source": [
    "### Decision Tree Classifier\n",
    "\n",
    "**Max depth = 2**"
   ]
  },
  {
   "cell_type": "code",
   "execution_count": 35,
   "metadata": {},
   "outputs": [
    {
     "data": {
      "text/plain": [
       "0.9744429882044561"
      ]
     },
     "execution_count": 35,
     "metadata": {},
     "output_type": "execute_result"
    }
   ],
   "source": [
    "decision_tree_2 = DecisionTreeClassifier(max_depth=2, random_state=0)\n",
    "dt2_y_pred = decision_tree_2.fit(X_train, y_train).predict(X_test)\n",
    "accuracy_score(dt2_y_pred, y_test)"
   ]
  },
  {
   "cell_type": "code",
   "execution_count": 36,
   "metadata": {},
   "outputs": [
    {
     "name": "stdout",
     "output_type": "stream",
     "text": [
      "              precision    recall  f1-score   support\n",
      "\n",
      "         bot       0.99      0.97      0.98      2076\n",
      "       human       0.95      0.98      0.96       976\n",
      "\n",
      "    accuracy                           0.97      3052\n",
      "   macro avg       0.97      0.97      0.97      3052\n",
      "weighted avg       0.97      0.97      0.97      3052\n",
      "\n"
     ]
    }
   ],
   "source": [
    "print(classification_report(dt2_y_pred, y_test))"
   ]
  },
  {
   "cell_type": "markdown",
   "metadata": {},
   "source": [
    "### Decision Tree Classifier\n",
    "\n",
    "**Max depth = 6**"
   ]
  },
  {
   "cell_type": "code",
   "execution_count": 37,
   "metadata": {},
   "outputs": [
    {
     "data": {
      "text/plain": [
       "0.9790301441677588"
      ]
     },
     "execution_count": 37,
     "metadata": {},
     "output_type": "execute_result"
    }
   ],
   "source": [
    "decision_tree_6 = DecisionTreeClassifier(max_depth=6, random_state=0)\n",
    "dt6_y_pred = decision_tree_6.fit(X_train, y_train).predict(X_test)\n",
    "accuracy_score(dt6_y_pred, y_test)"
   ]
  },
  {
   "cell_type": "code",
   "execution_count": 38,
   "metadata": {},
   "outputs": [
    {
     "name": "stdout",
     "output_type": "stream",
     "text": [
      "              precision    recall  f1-score   support\n",
      "\n",
      "         bot       0.99      0.98      0.98      2052\n",
      "       human       0.97      0.97      0.97      1000\n",
      "\n",
      "    accuracy                           0.98      3052\n",
      "   macro avg       0.98      0.98      0.98      3052\n",
      "weighted avg       0.98      0.98      0.98      3052\n",
      "\n"
     ]
    }
   ],
   "source": [
    "print(classification_report(dt6_y_pred, y_test))"
   ]
  },
  {
   "cell_type": "markdown",
   "metadata": {},
   "source": [
    "### Random Forest Classifier\n",
    "\n",
    "**Num estimators = 5**\\\n",
    "**Max depth = 4**"
   ]
  },
  {
   "cell_type": "code",
   "execution_count": 39,
   "metadata": {},
   "outputs": [
    {
     "data": {
      "text/plain": [
       "0.9836173001310616"
      ]
     },
     "execution_count": 39,
     "metadata": {},
     "output_type": "execute_result"
    }
   ],
   "source": [
    "random_forest_5_4 = RandomForestClassifier(n_estimators=5, max_depth=4, random_state=0)\n",
    "rf5_4_y_pred = random_forest_5_4.fit(X_train, y_train).predict(X_test)\n",
    "accuracy_score(rf5_4_y_pred, y_test)"
   ]
  },
  {
   "cell_type": "code",
   "execution_count": 40,
   "metadata": {},
   "outputs": [
    {
     "name": "stdout",
     "output_type": "stream",
     "text": [
      "              precision    recall  f1-score   support\n",
      "\n",
      "         bot       0.99      0.99      0.99      2044\n",
      "       human       0.98      0.97      0.98      1008\n",
      "\n",
      "    accuracy                           0.98      3052\n",
      "   macro avg       0.98      0.98      0.98      3052\n",
      "weighted avg       0.98      0.98      0.98      3052\n",
      "\n"
     ]
    }
   ],
   "source": [
    "print(classification_report(rf5_4_y_pred, y_test))"
   ]
  },
  {
   "cell_type": "markdown",
   "metadata": {},
   "source": [
    "### Random Forest Classifier\n",
    "\n",
    "**Num estimators = 25** \\\n",
    "**Max depth = 4**"
   ]
  },
  {
   "cell_type": "code",
   "execution_count": 41,
   "metadata": {},
   "outputs": [
    {
     "data": {
      "text/plain": [
       "0.9836173001310616"
      ]
     },
     "execution_count": 41,
     "metadata": {},
     "output_type": "execute_result"
    }
   ],
   "source": [
    "random_forest_25_4 = RandomForestClassifier(n_estimators=25, max_depth=4, random_state=0)\n",
    "rf25_4_y_pred = random_forest_25_4.fit(X_train, y_train).predict(X_test)\n",
    "accuracy_score(rf25_4_y_pred, y_test)"
   ]
  },
  {
   "cell_type": "code",
   "execution_count": 42,
   "metadata": {},
   "outputs": [
    {
     "name": "stdout",
     "output_type": "stream",
     "text": [
      "              precision    recall  f1-score   support\n",
      "\n",
      "         bot       0.99      0.99      0.99      2038\n",
      "       human       0.98      0.97      0.98      1014\n",
      "\n",
      "    accuracy                           0.98      3052\n",
      "   macro avg       0.98      0.98      0.98      3052\n",
      "weighted avg       0.98      0.98      0.98      3052\n",
      "\n"
     ]
    }
   ],
   "source": [
    "print(classification_report(rf25_4_y_pred, y_test))"
   ]
  },
  {
   "cell_type": "markdown",
   "metadata": {},
   "source": [
    "### Random Forest Classifier\n",
    "\n",
    "**Num estimators = 5**\\\n",
    "**Max depth = 6**"
   ]
  },
  {
   "cell_type": "code",
   "execution_count": 43,
   "metadata": {},
   "outputs": [
    {
     "data": {
      "text/plain": [
       "0.984600262123198"
      ]
     },
     "execution_count": 43,
     "metadata": {},
     "output_type": "execute_result"
    }
   ],
   "source": [
    "random_forest_5_6 = RandomForestClassifier(n_estimators=5, max_depth=6, random_state=0)\n",
    "rf5_6_y_pred = random_forest_5_6.fit(X_train, y_train).predict(X_test)\n",
    "accuracy_score(rf5_6_y_pred, y_test)"
   ]
  },
  {
   "cell_type": "code",
   "execution_count": 44,
   "metadata": {},
   "outputs": [
    {
     "name": "stdout",
     "output_type": "stream",
     "text": [
      "              precision    recall  f1-score   support\n",
      "\n",
      "         bot       0.99      0.99      0.99      2049\n",
      "       human       0.98      0.98      0.98      1003\n",
      "\n",
      "    accuracy                           0.98      3052\n",
      "   macro avg       0.98      0.98      0.98      3052\n",
      "weighted avg       0.98      0.98      0.98      3052\n",
      "\n"
     ]
    }
   ],
   "source": [
    "print(classification_report(rf5_6_y_pred, y_test))"
   ]
  }
 ],
 "metadata": {
  "kernelspec": {
   "display_name": "Python 3",
   "language": "python",
   "name": "python3"
  },
  "language_info": {
   "codemirror_mode": {
    "name": "ipython",
    "version": 3
   },
   "file_extension": ".py",
   "mimetype": "text/x-python",
   "name": "python",
   "nbconvert_exporter": "python",
   "pygments_lexer": "ipython3",
   "version": "3.7.4"
  }
 },
 "nbformat": 4,
 "nbformat_minor": 2
}
