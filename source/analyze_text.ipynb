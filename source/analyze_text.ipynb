{
 "cells": [
  {
   "cell_type": "markdown",
   "metadata": {},
   "source": [
    "## Notebook: analyze_text.ipynb\n",
    "This notebook is used for extracting features from user tweets."
   ]
  },
  {
   "cell_type": "code",
   "execution_count": 1,
   "metadata": {},
   "outputs": [],
   "source": [
    "import pandas as pd\n",
    "from nltk.tokenize import TweetTokenizer\n",
    "from nltk.corpus import stopwords"
   ]
  },
  {
   "cell_type": "code",
   "execution_count": 2,
   "metadata": {
    "tags": []
   },
   "outputs": [],
   "source": [
    "tknzr = TweetTokenizer()\n",
    "data = pd.read_json('../datasets/MIB/mib_processed.json')\n",
    "sw = stopwords.words('english')\n",
    "sw.append(stopwords.words('italian'))\n",
    "for index,row in data.iterrows():\n",
    "    tweets = row['recent_tweet_text']\n",
    "    for tweet in tweets:\n",
    "        if tweet:\n",
    "            tkn = tknzr.tokenize(tweet)\n",
    "            tkn = [word for word in tkn if word not in sw]"
   ]
  }
 ],
 "metadata": {
  "kernelspec": {
   "display_name": "Python 3",
   "language": "python",
   "name": "python3"
  },
  "language_info": {
   "codemirror_mode": {
    "name": "ipython",
    "version": 3
   },
   "file_extension": ".py",
   "mimetype": "text/x-python",
   "name": "python",
   "nbconvert_exporter": "python",
   "pygments_lexer": "ipython3",
   "version": "3.7.4"
  }
 },
 "nbformat": 4,
 "nbformat_minor": 2
}
