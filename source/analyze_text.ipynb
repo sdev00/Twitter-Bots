{
 "metadata": {
  "language_info": {
   "codemirror_mode": {
    "name": "ipython",
    "version": 3
   },
   "file_extension": ".py",
   "mimetype": "text/x-python",
   "name": "python",
   "nbconvert_exporter": "python",
   "pygments_lexer": "ipython3",
   "version": "3.8.5-final"
  },
  "orig_nbformat": 2,
  "kernelspec": {
   "name": "python3",
   "display_name": "Python 3"
  }
 },
 "nbformat": 4,
 "nbformat_minor": 2,
 "cells": [
  {
   "cell_type": "code",
   "execution_count": 1,
   "metadata": {},
   "outputs": [],
   "source": [
    "import pandas as pd\n",
    "from nltk.tokenize import TweetTokenizer"
   ]
  },
  {
   "cell_type": "code",
   "execution_count": 2,
   "metadata": {
    "tags": []
   },
   "outputs": [],
   "source": [
    "tknzr = TweetTokenizer()\n",
    "data = pd.read_json('../datasets/MIB/mib_processed.json')\n",
    "for index,row in data.iterrows():\n",
    "    tweets = row['recent_tweet_text']\n",
    "    for tweet in tweets:\n",
    "        if tweet:\n",
    "            tkn = tknzr.tokenize(tweet)"
   ]
  }
 ]
}