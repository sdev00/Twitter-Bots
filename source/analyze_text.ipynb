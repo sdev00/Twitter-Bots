{
 "cells": [
  {
   "cell_type": "markdown",
   "metadata": {},
   "source": [
    "## Notebook: analyze_text.ipynb\n",
    "\n",
    "This notebook extracts features from user tweets and standardizes the data at the end."
   ]
  },
  {
   "cell_type": "code",
   "execution_count": 2,
   "metadata": {},
   "outputs": [
    {
     "name": "stderr",
     "output_type": "stream",
     "text": [
      "[nltk_data] Downloading package stopwords to\n",
      "[nltk_data]     C:\\Users\\spdev\\AppData\\Roaming\\nltk_data...\n",
      "[nltk_data]   Package stopwords is already up-to-date!\n",
      "[nltk_data] Downloading package vader_lexicon to\n",
      "[nltk_data]     C:\\Users\\spdev\\AppData\\Roaming\\nltk_data...\n",
      "[nltk_data]   Package vader_lexicon is already up-to-date!\n"
     ]
    }
   ],
   "source": [
    "import pandas as pd\n",
    "import nltk\n",
    "from nltk.tokenize import TweetTokenizer, RegexpTokenizer\n",
    "\n",
    "nltk.download('stopwords')\n",
    "nltk.download('vader_lexicon')\n",
    "\n",
    "from nltk.corpus import stopwords\n",
    "from nltk.sentiment.vader import SentimentIntensityAnalyzer\n",
    "\n",
    "df = pd.read_json('../datasets/MIB/mib_processed.json')\n",
    "classifier_columns = ['identification', 'geo_enabled','default_profile','default_profile_image','followers_count','friends_count','favourites_count','listed_count','retweet_post_percent','reply_post_percent','avg_hashtags','avg_urls','avg_mentions','avg_retweets_cnt','avg_reply_cnt', 'unique_words_per_word', 'avg_neg_sentiment', 'avg_neu_sentiment', 'avg_pos_sentiment']\n",
    "tweets_columns = ['identification', 'tweet']\n",
    "tweets_df = pd.DataFrame(columns=tweets_columns)"
   ]
  },
  {
   "cell_type": "code",
   "execution_count": 3,
   "metadata": {},
   "outputs": [],
   "source": [
    "# out of new_columns, only unique_words_per_word, avg_neg_sentiment, and avg_pos_sentiment are used in classifiers\n",
    "new_columns = ['num_unique_words', 'total_words', 'unique_words_per_word',\n",
    "               'avg_neg_sentiment', 'avg_neu_sentiment', 'avg_pos_sentiment']\n",
    "\n",
    "# add new columns to the dataframe if not already present\n",
    "def add_columns(df, columns):\n",
    "    for col in columns:\n",
    "        if col not in df.columns:\n",
    "            df[col] = None\n",
    "\n",
    "# standardize all numeric values in the dataframe\n",
    "def standardize(df, final_columns):\n",
    "    df = df[final_columns]\n",
    "    \n",
    "    # find all columns that are not boolean values\n",
    "    numeric_cols = [col for col in df if (col != 'recent_tweet_text' and len(df[col].dropna().unique()) > 2)]\n",
    "    temp_df = df[numeric_cols]\n",
    "    df[numeric_cols] = (temp_df - temp_df.mean())/temp_df.std()\n",
    "    return df.fillna(0)\n",
    "\n",
    "add_columns(df, new_columns)"
   ]
  },
  {
   "cell_type": "code",
   "execution_count": 4,
   "metadata": {
    "scrolled": true,
    "tags": []
   },
   "outputs": [],
   "source": [
    "tokenizer = RegexpTokenizer(r'\\w+')\n",
    "sw = set(stopwords.words('english'))\n",
    "\n",
    "# some tweets are in italian\n",
    "sw.update(set(stopwords.words('italian')))\n",
    "\n",
    "sentiment_analyzer = SentimentIntensityAnalyzer()"
   ]
  },
  {
   "cell_type": "code",
   "execution_count": 20,
   "metadata": {
    "scrolled": true
   },
   "outputs": [],
   "source": [
    "tweets_list = []\n",
    "identification_list = []\n",
    "\n",
    "for index, row in df.iterrows():    \n",
    "    tweets = row['recent_tweet_text']\n",
    "    total_words = 0\n",
    "    words = set()\n",
    "    neg_sentiment = neu_sentiment = pos_sentiment = 0\n",
    "    \n",
    "    for tweet in tweets:\n",
    "        if tweet:\n",
    "            # add tweet to tweets dataset\n",
    "            tweets_list.append(tweet)\n",
    "            identification_list.append(row['identification'])\n",
    "            \n",
    "            # extract average sentiment across user's tweets\n",
    "            polarity_scores = sentiment_analyzer.polarity_scores(tweet)\n",
    "            neg_sentiment += polarity_scores['neg']\n",
    "            neu_sentiment += polarity_scores['neu']\n",
    "            pos_sentiment += polarity_scores['pos']\n",
    "            \n",
    "            # get a set of all unique words and count of total words across user's tweets\n",
    "            tkn = tokenizer.tokenize(tweet)\n",
    "            total_words += len(tkn)\n",
    "            words.update({word for word in tkn if word not in sw})\n",
    "    \n",
    "    df.at[index, 'num_unique_words'] = len(words)\n",
    "    df.at[index, 'total_words'] = total_words\n",
    "    df.at[index, 'avg_neg_sentiment'] = neg_sentiment/len(tweets)\n",
    "    df.at[index, 'avg_neu_sentiment'] = neu_sentiment/len(tweets)\n",
    "    df.at[index, 'avg_pos_sentiment'] = pos_sentiment/len(tweets)"
   ]
  },
  {
   "cell_type": "code",
   "execution_count": 21,
   "metadata": {},
   "outputs": [],
   "source": [
    "df['unique_words_per_word'] = df['num_unique_words']/df['total_words']\n",
    "tweets_df = pd.DataFrame.from_dict({'identification': identification_list, 'tweet': tweets_list})"
   ]
  },
  {
   "cell_type": "code",
   "execution_count": 24,
   "metadata": {},
   "outputs": [
    {
     "name": "stderr",
     "output_type": "stream",
     "text": [
      "C:\\Users\\spdev\\anaconda3\\lib\\site-packages\\pandas\\core\\frame.py:3065: SettingWithCopyWarning: \n",
      "A value is trying to be set on a copy of a slice from a DataFrame.\n",
      "Try using .loc[row_indexer,col_indexer] = value instead\n",
      "\n",
      "See the caveats in the documentation: https://pandas.pydata.org/pandas-docs/stable/user_guide/indexing.html#returning-a-view-versus-a-copy\n",
      "  self[k1] = value[k2]\n"
     ]
    },
    {
     "data": {
      "text/html": [
       "<div>\n",
       "<style scoped>\n",
       "    .dataframe tbody tr th:only-of-type {\n",
       "        vertical-align: middle;\n",
       "    }\n",
       "\n",
       "    .dataframe tbody tr th {\n",
       "        vertical-align: top;\n",
       "    }\n",
       "\n",
       "    .dataframe thead th {\n",
       "        text-align: right;\n",
       "    }\n",
       "</style>\n",
       "<table border=\"1\" class=\"dataframe\">\n",
       "  <thead>\n",
       "    <tr style=\"text-align: right;\">\n",
       "      <th></th>\n",
       "      <th>identification</th>\n",
       "      <th>tweet</th>\n",
       "    </tr>\n",
       "  </thead>\n",
       "  <tbody>\n",
       "    <tr>\n",
       "      <th>0</th>\n",
       "      <td>bot</td>\n",
       "      <td>everyone has a dream http://t.co/B95BIM3b</td>\n",
       "    </tr>\n",
       "    <tr>\n",
       "      <th>1</th>\n",
       "      <td>bot</td>\n",
       "      <td>Snowing</td>\n",
       "    </tr>\n",
       "    <tr>\n",
       "      <th>2</th>\n",
       "      <td>bot</td>\n",
       "      <td>2012wish me well</td>\n",
       "    </tr>\n",
       "    <tr>\n",
       "      <th>3</th>\n",
       "      <td>bot</td>\n",
       "      <td>Happy new year 2012</td>\n",
       "    </tr>\n",
       "    <tr>\n",
       "      <th>4</th>\n",
       "      <td>bot</td>\n",
       "      <td>Happy new year 2012</td>\n",
       "    </tr>\n",
       "    <tr>\n",
       "      <th>...</th>\n",
       "      <td>...</td>\n",
       "      <td>...</td>\n",
       "    </tr>\n",
       "    <tr>\n",
       "      <th>253771</th>\n",
       "      <td>human</td>\n",
       "      <td>WHERES JAZLYN</td>\n",
       "    </tr>\n",
       "    <tr>\n",
       "      <th>253772</th>\n",
       "      <td>human</td>\n",
       "      <td>@YoongisSnapback its here lol</td>\n",
       "    </tr>\n",
       "    <tr>\n",
       "      <th>253773</th>\n",
       "      <td>human</td>\n",
       "      <td>@YoongisSnapback no I didn't..</td>\n",
       "    </tr>\n",
       "    <tr>\n",
       "      <th>253774</th>\n",
       "      <td>human</td>\n",
       "      <td>!!!! http://t.co/EA9ZAuIxQu</td>\n",
       "    </tr>\n",
       "    <tr>\n",
       "      <th>253775</th>\n",
       "      <td>human</td>\n",
       "      <td>5 Accounts you want to become mutuals with? — ...</td>\n",
       "    </tr>\n",
       "  </tbody>\n",
       "</table>\n",
       "<p>253776 rows × 2 columns</p>\n",
       "</div>"
      ],
      "text/plain": [
       "       identification                                              tweet\n",
       "0                 bot          everyone has a dream http://t.co/B95BIM3b\n",
       "1                 bot                                            Snowing\n",
       "2                 bot                                   2012wish me well\n",
       "3                 bot                                Happy new year 2012\n",
       "4                 bot                                Happy new year 2012\n",
       "...               ...                                                ...\n",
       "253771          human                                      WHERES JAZLYN\n",
       "253772          human                      @YoongisSnapback its here lol\n",
       "253773          human                     @YoongisSnapback no I didn't..\n",
       "253774          human                        !!!! http://t.co/EA9ZAuIxQu\n",
       "253775          human  5 Accounts you want to become mutuals with? — ...\n",
       "\n",
       "[253776 rows x 2 columns]"
      ]
     },
     "execution_count": 24,
     "metadata": {},
     "output_type": "execute_result"
    }
   ],
   "source": [
    "standardized_df = standardize(df, classifier_columns)\n",
    "standardized_df.to_csv('../datasets/MIB/mib_processed_text_standardized.csv', index=False)\n",
    "\n",
    "tweets_df"
   ]
  },
  {
   "cell_type": "code",
   "execution_count": null,
   "metadata": {},
   "outputs": [],
   "source": []
  }
 ],
 "metadata": {
  "kernelspec": {
   "display_name": "Python 3",
   "language": "python",
   "name": "python3"
  },
  "language_info": {
   "codemirror_mode": {
    "name": "ipython",
    "version": 3
   },
   "file_extension": ".py",
   "mimetype": "text/x-python",
   "name": "python",
   "nbconvert_exporter": "python",
   "pygments_lexer": "ipython3",
   "version": "3.8.5"
  }
 },
 "nbformat": 4,
 "nbformat_minor": 2
}
