{
 "cells": [
  {
   "cell_type": "markdown",
   "metadata": {},
   "source": [
    "## Notebook: decision_tree.ipynb\n",
    "\n",
    "This notebook is used for building decision tree and random forest classifiers."
   ]
  },
  {
   "cell_type": "code",
   "execution_count": 1,
   "metadata": {},
   "outputs": [],
   "source": [
    "import pandas as pd\n",
    "from sklearn.tree import DecisionTreeClassifier\n",
    "from sklearn.ensemble import RandomForestClassifier\n",
    "from sklearn.model_selection import train_test_split\n",
    "from sklearn.metrics import accuracy_score, classification_report"
   ]
  },
  {
   "cell_type": "markdown",
   "metadata": {},
   "source": [
    "### Data Preparation"
   ]
  },
  {
   "cell_type": "code",
   "execution_count": 2,
   "metadata": {},
   "outputs": [],
   "source": [
    "X_labels = ['geo_enabled','default_profile','default_profile_image','followers_count','friends_count','favourites_count','listed_count','retweet_post_percent','reply_post_percent','avg_hashtags','avg_urls','avg_mentions','avg_retweets_cnt','avg_reply_cnt']\n",
    "Y_label = 'identification'\n",
    "\n",
    "data = pd.read_csv('../datasets/MIB/mib_processed.csv')\n",
    "X = data[X_labels]\n",
    "y = data[Y_label]\n",
    "X_train, X_test, y_train, y_test = train_test_split(X, y, test_size=0.50, random_state=42)"
   ]
  },
  {
   "cell_type": "markdown",
   "metadata": {},
   "source": [
    "### Decision Tree Classifier\n",
    "\n",
    "**Max depth = 5**"
   ]
  },
  {
   "cell_type": "code",
   "execution_count": 3,
   "metadata": {},
   "outputs": [
    {
     "data": {
      "text/plain": [
       "0.984697386519945"
      ]
     },
     "execution_count": 3,
     "metadata": {},
     "output_type": "execute_result"
    }
   ],
   "source": [
    "decision_tree = DecisionTreeClassifier(max_depth=5, random_state=0)\n",
    "dt_y_pred = decision_tree.fit(X_train, y_train).predict(X_test)\n",
    "accuracy_score(dt_y_pred, y_test)"
   ]
  },
  {
   "cell_type": "code",
   "execution_count": 4,
   "metadata": {},
   "outputs": [
    {
     "name": "stdout",
     "output_type": "stream",
     "text": [
      "              precision    recall  f1-score   support\n",
      "\n",
      "         bot       0.99      0.99      0.99      4143\n",
      "       human       0.97      0.98      0.97      1673\n",
      "\n",
      "    accuracy                           0.98      5816\n",
      "   macro avg       0.98      0.98      0.98      5816\n",
      "weighted avg       0.98      0.98      0.98      5816\n",
      "\n"
     ]
    }
   ],
   "source": [
    "print(classification_report(dt_y_pred, y_test))"
   ]
  },
  {
   "cell_type": "markdown",
   "metadata": {},
   "source": [
    "### Random Forest Classifier\n",
    "\n",
    "**Num estimators = 20**\\\n",
    "**Max depth = 4**"
   ]
  },
  {
   "cell_type": "code",
   "execution_count": 5,
   "metadata": {},
   "outputs": [
    {
     "data": {
      "text/plain": [
       "0.9862448418156808"
      ]
     },
     "execution_count": 5,
     "metadata": {},
     "output_type": "execute_result"
    }
   ],
   "source": [
    "random_forest = RandomForestClassifier(n_estimators=20, max_depth=4, random_state=0)\n",
    "rf_y_pred = random_forest.fit(X_train, y_train).predict(X_test)\n",
    "accuracy_score(rf_y_pred, y_test)"
   ]
  },
  {
   "cell_type": "code",
   "execution_count": 6,
   "metadata": {},
   "outputs": [
    {
     "name": "stdout",
     "output_type": "stream",
     "text": [
      "              precision    recall  f1-score   support\n",
      "\n",
      "         bot       0.99      0.99      0.99      4158\n",
      "       human       0.97      0.98      0.98      1658\n",
      "\n",
      "    accuracy                           0.99      5816\n",
      "   macro avg       0.98      0.99      0.98      5816\n",
      "weighted avg       0.99      0.99      0.99      5816\n",
      "\n"
     ]
    }
   ],
   "source": [
    "print(classification_report(rf_y_pred, y_test))"
   ]
  }
 ],
 "metadata": {
  "kernelspec": {
   "display_name": "Python 3",
   "language": "python",
   "name": "python3"
  },
  "language_info": {
   "codemirror_mode": {
    "name": "ipython",
    "version": 3
   },
   "file_extension": ".py",
   "mimetype": "text/x-python",
   "name": "python",
   "nbconvert_exporter": "python",
   "pygments_lexer": "ipython3",
   "version": "3.7.4"
  }
 },
 "nbformat": 4,
 "nbformat_minor": 2
}
