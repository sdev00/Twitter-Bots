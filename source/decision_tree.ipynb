{
 "cells": [
  {
   "cell_type": "markdown",
   "metadata": {},
   "source": [
    "## Notebook: decision_tree.ipynb\n",
    "This notebook is used for building decision tree and random forest classifiers."
   ]
  },
  {
   "cell_type": "code",
   "execution_count": 59,
   "metadata": {},
   "outputs": [],
   "source": [
    "import pandas as pd\n",
    "from sklearn.tree import DecisionTreeClassifier\n",
    "from sklearn.ensemble import RandomForestClassifier\n",
    "from sklearn.model_selection import train_test_split\n",
    "from sklearn.metrics import accuracy_score, classification_report"
   ]
  },
  {
   "cell_type": "markdown",
   "metadata": {},
   "source": [
    "### Data Preparation"
   ]
  },
  {
   "cell_type": "code",
   "execution_count": 61,
   "metadata": {},
   "outputs": [],
   "source": [
    "X_labels = ['followers_count','friends_count','favourites_count','verified', 'default_profile_image', 'statuses_count','listed_count']\n",
    "Y_label = 'identification'\n",
    "\n",
    "data = pd.read_csv('../datasets/all-datasets.csv')\n",
    "X = data[X_labels]\n",
    "y = data[Y_label]\n",
    "X_train, X_test, y_train, y_test = train_test_split(X, y, test_size=0.50, random_state=42)"
   ]
  },
  {
   "cell_type": "markdown",
   "metadata": {},
   "source": [
    "### Decision Tree Classifier\n",
    "\n",
    "**Max depth = 5**"
   ]
  },
  {
   "cell_type": "code",
   "execution_count": 62,
   "metadata": {},
   "outputs": [
    {
     "data": {
      "text/plain": [
       "0.9550744174530248"
      ]
     },
     "execution_count": 62,
     "metadata": {},
     "output_type": "execute_result"
    }
   ],
   "source": [
    "decision_tree = DecisionTreeClassifier(max_depth=5, random_state=0)\n",
    "dt_y_pred = decision_tree.fit(X_train, y_train).predict(X_test)\n",
    "accuracy_score(dt_y_pred, y_test)"
   ]
  },
  {
   "cell_type": "code",
   "execution_count": 63,
   "metadata": {},
   "outputs": [
    {
     "name": "stdout",
     "output_type": "stream",
     "text": [
      "              precision    recall  f1-score   support\n",
      "\n",
      "         bot       0.98      0.97      0.97     31614\n",
      "       human       0.81      0.85      0.83      4735\n",
      "\n",
      "    accuracy                           0.96     36349\n",
      "   macro avg       0.89      0.91      0.90     36349\n",
      "weighted avg       0.96      0.96      0.96     36349\n",
      "\n"
     ]
    }
   ],
   "source": [
    "print(classification_report(dt_y_pred, y_test))"
   ]
  },
  {
   "cell_type": "markdown",
   "metadata": {},
   "source": [
    "### Random Forest Classifier\n",
    "\n",
    "**Num estimators = 20**\\\n",
    "**Max depth = 4**"
   ]
  },
  {
   "cell_type": "code",
   "execution_count": 64,
   "metadata": {},
   "outputs": [
    {
     "data": {
      "text/plain": [
       "0.9543041074032298"
      ]
     },
     "execution_count": 64,
     "metadata": {},
     "output_type": "execute_result"
    }
   ],
   "source": [
    "random_forest = RandomForestClassifier(n_estimators=20, max_depth=4, random_state=0)\n",
    "rf_y_pred = random_forest.fit(X_train, y_train).predict(X_test)\n",
    "accuracy_score(rf_y_pred, y_test)"
   ]
  },
  {
   "cell_type": "code",
   "execution_count": 65,
   "metadata": {},
   "outputs": [
    {
     "name": "stdout",
     "output_type": "stream",
     "text": [
      "              precision    recall  f1-score   support\n",
      "\n",
      "         bot       0.97      0.97      0.97     31296\n",
      "       human       0.84      0.83      0.83      5053\n",
      "\n",
      "    accuracy                           0.95     36349\n",
      "   macro avg       0.91      0.90      0.90     36349\n",
      "weighted avg       0.95      0.95      0.95     36349\n",
      "\n"
     ]
    }
   ],
   "source": [
    "print(classification_report(rf_y_pred, y_test))"
   ]
  }
 ],
 "metadata": {
  "kernelspec": {
   "display_name": "Python 3",
   "language": "python",
   "name": "python3"
  },
  "language_info": {
   "codemirror_mode": {
    "name": "ipython",
    "version": 3
   },
   "file_extension": ".py",
   "mimetype": "text/x-python",
   "name": "python",
   "nbconvert_exporter": "python",
   "pygments_lexer": "ipython3",
   "version": "3.7.4"
  }
 },
 "nbformat": 4,
 "nbformat_minor": 2
}
