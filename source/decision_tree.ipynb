{
 "cells": [
  {
   "cell_type": "markdown",
   "metadata": {},
   "source": [
    "## Notebook: decision_tree.ipynb\n",
    "\n",
    "This notebook is used for building decision tree and random forest classifiers."
   ]
  },
  {
   "cell_type": "code",
   "execution_count": 2,
   "metadata": {},
   "outputs": [],
   "source": [
    "import pandas as pd\n",
    "from sklearn.tree import DecisionTreeClassifier\n",
    "from sklearn.ensemble import RandomForestClassifier\n",
    "from sklearn.model_selection import train_test_split\n",
    "from sklearn.metrics import accuracy_score, classification_report"
   ]
  },
  {
   "cell_type": "markdown",
   "metadata": {},
   "source": [
    "### Data Preparation"
   ]
  },
  {
   "cell_type": "code",
   "execution_count": 3,
   "metadata": {},
   "outputs": [],
   "source": [
    "X_labels = ['geo_enabled','default_profile','default_profile_image','followers_count','friends_count','favourites_count','listed_count','retweet_post_percent','reply_post_percent','avg_hashtags','avg_urls','avg_mentions','avg_retweets_cnt','avg_reply_cnt']\n",
    "Y_label = 'identification'\n",
    "\n",
    "data = pd.read_csv('../datasets/MIB/mib_processed.csv')\n",
    "X = data[X_labels]\n",
    "y = data[Y_label]\n",
    "X_train, X_test, y_train, y_test = train_test_split(X, y, test_size=0.30, random_state=42)"
   ]
  },
  {
   "cell_type": "markdown",
   "metadata": {},
   "source": [
    "### Decision Tree Classifier\n",
    "\n",
    "**Max depth = 2**"
   ]
  },
  {
   "cell_type": "code",
   "execution_count": 4,
   "metadata": {},
   "outputs": [
    {
     "data": {
      "text/plain": [
       "0.9451169188445667"
      ]
     },
     "execution_count": 4,
     "metadata": {},
     "output_type": "execute_result"
    }
   ],
   "source": [
    "decision_tree_2 = DecisionTreeClassifier(max_depth=2, random_state=0)\n",
    "dt2_y_pred = decision_tree_2.fit(X_train, y_train).predict(X_test)\n",
    "accuracy_score(dt2_y_pred, y_test)"
   ]
  },
  {
   "cell_type": "code",
   "execution_count": 5,
   "metadata": {},
   "outputs": [
    {
     "name": "stdout",
     "output_type": "stream",
     "text": [
      "              precision    recall  f1-score   support\n",
      "\n",
      "         bot       0.96      0.97      0.97     18689\n",
      "       human       0.83      0.78      0.80      3121\n",
      "\n",
      "    accuracy                           0.95     21810\n",
      "   macro avg       0.90      0.88      0.89     21810\n",
      "weighted avg       0.94      0.95      0.94     21810\n",
      "\n"
     ]
    }
   ],
   "source": [
    "print(classification_report(dt2_y_pred, y_test))"
   ]
  },
  {
   "cell_type": "markdown",
   "metadata": {},
   "source": [
    "### Decision Tree Classifier\n",
    "\n",
    "**Max depth = 6**"
   ]
  },
  {
   "cell_type": "code",
   "execution_count": 16,
   "metadata": {},
   "outputs": [
    {
     "data": {
      "text/plain": [
       "0.9570839064649244"
      ]
     },
     "execution_count": 16,
     "metadata": {},
     "output_type": "execute_result"
    }
   ],
   "source": [
    "decision_tree_6 = DecisionTreeClassifier(max_depth=6, random_state=0)\n",
    "dt6_y_pred = decision_tree_6.fit(X_train, y_train).predict(X_test)\n",
    "accuracy_score(dt6_y_pred, y_test)"
   ]
  },
  {
   "cell_type": "code",
   "execution_count": 17,
   "metadata": {},
   "outputs": [
    {
     "name": "stdout",
     "output_type": "stream",
     "text": [
      "              precision    recall  f1-score   support\n",
      "\n",
      "         bot       0.98      0.97      0.98     19114\n",
      "       human       0.80      0.87      0.83      2696\n",
      "\n",
      "    accuracy                           0.96     21810\n",
      "   macro avg       0.89      0.92      0.90     21810\n",
      "weighted avg       0.96      0.96      0.96     21810\n",
      "\n"
     ]
    }
   ],
   "source": [
    "print(classification_report(dt6_y_pred, y_test))"
   ]
  },
  {
   "cell_type": "markdown",
   "metadata": {},
   "source": [
    "### Random Forest Classifier\n",
    "\n",
    "**Num estimators = 5**\\\n",
    "**Max depth = 4**"
   ]
  },
  {
   "cell_type": "code",
   "execution_count": 8,
   "metadata": {},
   "outputs": [
    {
     "data": {
      "text/plain": [
       "0.953232462173315"
      ]
     },
     "execution_count": 8,
     "metadata": {},
     "output_type": "execute_result"
    }
   ],
   "source": [
    "random_forest_5_4 = RandomForestClassifier(n_estimators=5, max_depth=4, random_state=0)\n",
    "rf5_4_y_pred = random_forest_5_4.fit(X_train, y_train).predict(X_test)\n",
    "accuracy_score(rf5_4_y_pred, y_test)"
   ]
  },
  {
   "cell_type": "code",
   "execution_count": 9,
   "metadata": {},
   "outputs": [
    {
     "name": "stdout",
     "output_type": "stream",
     "text": [
      "              precision    recall  f1-score   support\n",
      "\n",
      "         bot       0.97      0.97      0.97     18892\n",
      "       human       0.82      0.83      0.83      2918\n",
      "\n",
      "    accuracy                           0.95     21810\n",
      "   macro avg       0.90      0.90      0.90     21810\n",
      "weighted avg       0.95      0.95      0.95     21810\n",
      "\n"
     ]
    }
   ],
   "source": [
    "print(classification_report(rf5_4_y_pred, y_test))"
   ]
  },
  {
   "cell_type": "markdown",
   "metadata": {},
   "source": [
    "### Random Forest Classifier\n",
    "\n",
    "**Num estimators = 25**\\\n",
    "**Max depth = 4**"
   ]
  },
  {
   "cell_type": "code",
   "execution_count": 10,
   "metadata": {},
   "outputs": [
    {
     "data": {
      "text/plain": [
       "0.9544245758826226"
      ]
     },
     "execution_count": 10,
     "metadata": {},
     "output_type": "execute_result"
    }
   ],
   "source": [
    "random_forest_25_4 = RandomForestClassifier(n_estimators=25, max_depth=4, random_state=0)\n",
    "rf25_4_y_pred = random_forest_25_4.fit(X_train, y_train).predict(X_test)\n",
    "accuracy_score(rf25_4_y_pred, y_test)"
   ]
  },
  {
   "cell_type": "code",
   "execution_count": 11,
   "metadata": {},
   "outputs": [
    {
     "name": "stdout",
     "output_type": "stream",
     "text": [
      "              precision    recall  f1-score   support\n",
      "\n",
      "         bot       0.97      0.97      0.97     18862\n",
      "       human       0.83      0.83      0.83      2948\n",
      "\n",
      "    accuracy                           0.95     21810\n",
      "   macro avg       0.90      0.90      0.90     21810\n",
      "weighted avg       0.95      0.95      0.95     21810\n",
      "\n"
     ]
    }
   ],
   "source": [
    "print(classification_report(rf25_4_y_pred, y_test))"
   ]
  },
  {
   "cell_type": "markdown",
   "metadata": {},
   "source": [
    "### Random Forest Classifier\n",
    "\n",
    "**Num estimators = 5**\\\n",
    "**Max depth = 6**"
   ]
  },
  {
   "cell_type": "code",
   "execution_count": 12,
   "metadata": {},
   "outputs": [
    {
     "data": {
      "text/plain": [
       "0.9569922054103622"
      ]
     },
     "execution_count": 12,
     "metadata": {},
     "output_type": "execute_result"
    }
   ],
   "source": [
    "random_forest_5_6 = RandomForestClassifier(n_estimators=5, max_depth=6, random_state=0)\n",
    "rf5_6_y_pred = random_forest_5_6.fit(X_train, y_train).predict(X_test)\n",
    "accuracy_score(rf5_6_y_pred, y_test)"
   ]
  },
  {
   "cell_type": "code",
   "execution_count": 13,
   "metadata": {},
   "outputs": [
    {
     "name": "stdout",
     "output_type": "stream",
     "text": [
      "              precision    recall  f1-score   support\n",
      "\n",
      "         bot       0.98      0.97      0.98     18980\n",
      "       human       0.82      0.85      0.84      2830\n",
      "\n",
      "    accuracy                           0.96     21810\n",
      "   macro avg       0.90      0.91      0.91     21810\n",
      "weighted avg       0.96      0.96      0.96     21810\n",
      "\n"
     ]
    }
   ],
   "source": [
    "print(classification_report(rf5_6_y_pred, y_test))"
   ]
  }
 ],
 "metadata": {
  "kernelspec": {
   "display_name": "Python 3",
   "language": "python",
   "name": "python3"
  },
  "language_info": {
   "codemirror_mode": {
    "name": "ipython",
    "version": 3
   },
   "file_extension": ".py",
   "mimetype": "text/x-python",
   "name": "python",
   "nbconvert_exporter": "python",
   "pygments_lexer": "ipython3",
   "version": "3.7.4"
  }
 },
 "nbformat": 4,
 "nbformat_minor": 2
}
