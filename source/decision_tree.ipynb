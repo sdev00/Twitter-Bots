{
 "cells": [
  {
   "cell_type": "markdown",
   "metadata": {},
   "source": [
    "## Notebook: decision_tree.ipynb\n",
    "\n",
    "This notebook is used for building decision tree and random forest classifiers."
   ]
  },
  {
   "cell_type": "code",
   "execution_count": 2,
   "metadata": {},
   "outputs": [],
   "source": [
    "import pandas as pd\n",
    "from sklearn.tree import DecisionTreeClassifier\n",
    "from sklearn.ensemble import RandomForestClassifier\n",
    "from sklearn.model_selection import train_test_split\n",
    "from sklearn.metrics import accuracy_score, classification_report"
   ]
  },
  {
   "cell_type": "markdown",
   "metadata": {},
   "source": [
    "### Data Preparation"
   ]
  },
  {
   "cell_type": "code",
   "execution_count": 9,
   "metadata": {},
   "outputs": [],
   "source": [
    "X_labels = ['geo_enabled','default_profile','default_profile_image','followers_count','friends_count','favourites_count','listed_count','retweet_post_percent','reply_post_percent','avg_hashtags','avg_urls','avg_mentions','avg_retweets_cnt','avg_reply_cnt']\n",
    "Y_label = 'identification'\n",
    "\n",
    "data = pd.read_csv('../datasets/MIB/mib_processed.csv')\n",
    "X = data[X_labels]\n",
    "y = data[Y_label]\n",
    "X_train, X_test, y_train, y_test = train_test_split(X, y, test_size=0.30, random_state=42)"
   ]
  },
  {
   "cell_type": "markdown",
   "metadata": {},
   "source": [
    "### Decision Tree Classifier\n",
    "\n",
    "**Max depth = 2**"
   ]
  },
  {
   "cell_type": "code",
   "execution_count": 10,
   "metadata": {},
   "outputs": [
    {
     "data": {
      "text/plain": [
       "0.9796561604584527"
      ]
     },
     "execution_count": 10,
     "metadata": {},
     "output_type": "execute_result"
    }
   ],
   "source": [
    "decision_tree_2 = DecisionTreeClassifier(max_depth=2, random_state=0)\n",
    "dt2_y_pred = decision_tree_2.fit(X_train, y_train).predict(X_test)\n",
    "accuracy_score(dt2_y_pred, y_test)"
   ]
  },
  {
   "cell_type": "code",
   "execution_count": 12,
   "metadata": {},
   "outputs": [
    {
     "name": "stdout",
     "output_type": "stream",
     "text": [
      "              precision    recall  f1-score   support\n",
      "\n",
      "         bot       0.99      0.98      0.99      2517\n",
      "       human       0.95      0.98      0.96       973\n",
      "\n",
      "    accuracy                           0.98      3490\n",
      "   macro avg       0.97      0.98      0.97      3490\n",
      "weighted avg       0.98      0.98      0.98      3490\n",
      "\n"
     ]
    }
   ],
   "source": [
    "print(classification_report(dt2_y_pred, y_test))"
   ]
  },
  {
   "cell_type": "markdown",
   "metadata": {},
   "source": [
    "### Decision Tree Classifier\n",
    "\n",
    "**Max depth = 6**"
   ]
  },
  {
   "cell_type": "code",
   "execution_count": 13,
   "metadata": {},
   "outputs": [
    {
     "data": {
      "text/plain": [
       "0.9848137535816619"
      ]
     },
     "execution_count": 13,
     "metadata": {},
     "output_type": "execute_result"
    }
   ],
   "source": [
    "decision_tree_6 = DecisionTreeClassifier(max_depth=6, random_state=0)\n",
    "dt6_y_pred = decision_tree_6.fit(X_train, y_train).predict(X_test)\n",
    "accuracy_score(dt6_y_pred, y_test)"
   ]
  },
  {
   "cell_type": "code",
   "execution_count": 14,
   "metadata": {},
   "outputs": [
    {
     "name": "stdout",
     "output_type": "stream",
     "text": [
      "              precision    recall  f1-score   support\n",
      "\n",
      "         bot       0.99      0.99      0.99      2491\n",
      "       human       0.97      0.98      0.97       999\n",
      "\n",
      "    accuracy                           0.98      3490\n",
      "   macro avg       0.98      0.98      0.98      3490\n",
      "weighted avg       0.98      0.98      0.98      3490\n",
      "\n"
     ]
    }
   ],
   "source": [
    "print(classification_report(dt6_y_pred, y_test))"
   ]
  },
  {
   "cell_type": "markdown",
   "metadata": {},
   "source": [
    "### Random Forest Classifier\n",
    "\n",
    "**Num estimators = 5**\\\n",
    "**Max depth = 4**"
   ]
  },
  {
   "cell_type": "code",
   "execution_count": 15,
   "metadata": {},
   "outputs": [
    {
     "data": {
      "text/plain": [
       "0.9871060171919771"
      ]
     },
     "execution_count": 15,
     "metadata": {},
     "output_type": "execute_result"
    }
   ],
   "source": [
    "random_forest_5_4 = RandomForestClassifier(n_estimators=5, max_depth=4, random_state=0)\n",
    "rf5_4_y_pred = random_forest_5_4.fit(X_train, y_train).predict(X_test)\n",
    "accuracy_score(rf5_4_y_pred, y_test)"
   ]
  },
  {
   "cell_type": "code",
   "execution_count": 16,
   "metadata": {},
   "outputs": [
    {
     "name": "stdout",
     "output_type": "stream",
     "text": [
      "              precision    recall  f1-score   support\n",
      "\n",
      "         bot       0.99      0.99      0.99      2479\n",
      "       human       0.98      0.97      0.98      1011\n",
      "\n",
      "    accuracy                           0.99      3490\n",
      "   macro avg       0.99      0.98      0.98      3490\n",
      "weighted avg       0.99      0.99      0.99      3490\n",
      "\n"
     ]
    }
   ],
   "source": [
    "print(classification_report(rf5_4_y_pred, y_test))"
   ]
  },
  {
   "cell_type": "markdown",
   "metadata": {},
   "source": [
    "### Random Forest Classifier\n",
    "\n",
    "**Num estimators = 25** \\\n",
    "**Max depth = 4**"
   ]
  },
  {
   "cell_type": "code",
   "execution_count": 17,
   "metadata": {},
   "outputs": [
    {
     "data": {
      "text/plain": [
       "0.9871060171919771"
      ]
     },
     "execution_count": 17,
     "metadata": {},
     "output_type": "execute_result"
    }
   ],
   "source": [
    "random_forest_25_4 = RandomForestClassifier(n_estimators=25, max_depth=4, random_state=0)\n",
    "rf25_4_y_pred = random_forest_25_4.fit(X_train, y_train).predict(X_test)\n",
    "accuracy_score(rf25_4_y_pred, y_test)"
   ]
  },
  {
   "cell_type": "code",
   "execution_count": 18,
   "metadata": {},
   "outputs": [
    {
     "name": "stdout",
     "output_type": "stream",
     "text": [
      "              precision    recall  f1-score   support\n",
      "\n",
      "         bot       0.99      0.99      0.99      2489\n",
      "       human       0.98      0.98      0.98      1001\n",
      "\n",
      "    accuracy                           0.99      3490\n",
      "   macro avg       0.98      0.98      0.98      3490\n",
      "weighted avg       0.99      0.99      0.99      3490\n",
      "\n"
     ]
    }
   ],
   "source": [
    "print(classification_report(rf25_4_y_pred, y_test))"
   ]
  },
  {
   "cell_type": "markdown",
   "metadata": {},
   "source": [
    "### Random Forest Classifier\n",
    "\n",
    "**Num estimators = 5**\\\n",
    "**Max depth = 6**"
   ]
  },
  {
   "cell_type": "code",
   "execution_count": 19,
   "metadata": {},
   "outputs": [
    {
     "data": {
      "text/plain": [
       "0.9871060171919771"
      ]
     },
     "execution_count": 19,
     "metadata": {},
     "output_type": "execute_result"
    }
   ],
   "source": [
    "random_forest_5_6 = RandomForestClassifier(n_estimators=5, max_depth=6, random_state=0)\n",
    "rf5_6_y_pred = random_forest_5_6.fit(X_train, y_train).predict(X_test)\n",
    "accuracy_score(rf5_6_y_pred, y_test)"
   ]
  },
  {
   "cell_type": "code",
   "execution_count": 20,
   "metadata": {},
   "outputs": [
    {
     "name": "stdout",
     "output_type": "stream",
     "text": [
      "              precision    recall  f1-score   support\n",
      "\n",
      "         bot       0.99      0.99      0.99      2489\n",
      "       human       0.98      0.98      0.98      1001\n",
      "\n",
      "    accuracy                           0.99      3490\n",
      "   macro avg       0.98      0.98      0.98      3490\n",
      "weighted avg       0.99      0.99      0.99      3490\n",
      "\n"
     ]
    }
   ],
   "source": [
    "print(classification_report(rf5_6_y_pred, y_test))"
   ]
  }
 ],
 "metadata": {
  "kernelspec": {
   "display_name": "Python 3",
   "language": "python",
   "name": "python3"
  },
  "language_info": {
   "codemirror_mode": {
    "name": "ipython",
    "version": 3
   },
   "file_extension": ".py",
   "mimetype": "text/x-python",
   "name": "python",
   "nbconvert_exporter": "python",
   "pygments_lexer": "ipython3",
   "version": "3.7.4"
  }
 },
 "nbformat": 4,
 "nbformat_minor": 2
}
