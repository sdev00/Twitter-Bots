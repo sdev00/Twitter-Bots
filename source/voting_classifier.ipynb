{
 "cells": [
  {
   "cell_type": "markdown",
   "metadata": {},
   "source": [
    "## Notebook: voting_classifier.ipynb\n",
    "\n",
    "This notebook is used for building a voting classifier from the best performing version of the other models."
   ]
  },
  {
   "cell_type": "code",
   "execution_count": 53,
   "metadata": {},
   "outputs": [],
   "source": [
    "import pandas as pd\n",
    "from sklearn.ensemble import RandomForestClassifier, VotingClassifier\n",
    "from sklearn.neural_network import MLPClassifier\n",
    "from sklearn.naive_bayes import GaussianNB\n",
    "from sklearn.linear_model import LogisticRegression\n",
    "\n",
    "from sklearn.model_selection import train_test_split\n",
    "from sklearn.metrics import accuracy_score, classification_report\n",
    "\n",
    "from warnings import filterwarnings"
   ]
  },
  {
   "cell_type": "markdown",
   "metadata": {},
   "source": [
    "### Data Preparation"
   ]
  },
  {
   "cell_type": "code",
   "execution_count": 54,
   "metadata": {},
   "outputs": [],
   "source": [
    "X_labels = ['geo_enabled','default_profile','default_profile_image','followers_count','friends_count','favourites_count','listed_count','retweet_post_percent','reply_post_percent','avg_hashtags','avg_urls','avg_mentions','avg_retweets_cnt','avg_reply_cnt']\n",
    "Y_label = 'identification'\n",
    "\n",
    "data = pd.read_csv('../datasets/MIB/mib_processed.csv')\n",
    "X = data[X_labels]\n",
    "y = data[Y_label]\n",
    "X_train, X_test, y_train, y_test = train_test_split(X, y, test_size=0.30, random_state=42)"
   ]
  },
  {
   "cell_type": "markdown",
   "metadata": {},
   "source": [
    "### Classifier Initialization\n",
    "\n",
    "**Num estimators = 4**\n",
    "\n",
    "**Random forest, multilayer perceptron, naive bayes, logistic regression**"
   ]
  },
  {
   "cell_type": "code",
   "execution_count": 55,
   "metadata": {},
   "outputs": [],
   "source": [
    "rf = RandomForestClassifier(n_estimators=5, max_depth=6, random_state=0)\n",
    "mlp = MLPClassifier(solver='adam', hidden_layer_sizes=(20, 20), alpha=1e-4, activation='relu', max_iter=300, random_state=1)\n",
    "gnb = GaussianNB()\n",
    "lr = LogisticRegression(solver='liblinear', penalty='l1', random_state=0)"
   ]
  },
  {
   "cell_type": "markdown",
   "metadata": {},
   "source": [
    "### Voting Classifier\n",
    "\n",
    "**Voting: hard**\n",
    "\n",
    "**Random forest, multilayer perceptron, naive bayes**"
   ]
  },
  {
   "cell_type": "code",
   "execution_count": 56,
   "metadata": {},
   "outputs": [
    {
     "data": {
      "text/plain": [
       "0.9845272206303725"
      ]
     },
     "execution_count": 56,
     "metadata": {},
     "output_type": "execute_result"
    }
   ],
   "source": [
    "# ignores ConvergenceWarning in MLPClassifier.fit()\n",
    "filterwarnings('ignore')\n",
    "\n",
    "vc_hard = VotingClassifier(voting='hard', estimators=[\n",
    "    ('random_forest', rf),\n",
    "    ('multilayer_perceptron', mlp),\n",
    "    ('naive_bayes', gnb)\n",
    "])\n",
    "\n",
    "vc_hard_pred = vc_hard.fit(X_train, y_train).predict(X_test)\n",
    "accuracy_score(vc_hard_pred, y_test)"
   ]
  },
  {
   "cell_type": "code",
   "execution_count": 57,
   "metadata": {},
   "outputs": [
    {
     "name": "stdout",
     "output_type": "stream",
     "text": [
      "              precision    recall  f1-score   support\n",
      "\n",
      "         bot       0.99      0.99      0.99      2488\n",
      "       human       0.97      0.97      0.97      1002\n",
      "\n",
      "    accuracy                           0.98      3490\n",
      "   macro avg       0.98      0.98      0.98      3490\n",
      "weighted avg       0.98      0.98      0.98      3490\n",
      "\n"
     ]
    }
   ],
   "source": [
    "print(classification_report(vc_hard_pred, y_test))"
   ]
  },
  {
   "cell_type": "markdown",
   "metadata": {},
   "source": [
    "### Voting Classifier\n",
    "\n",
    "**Voting: hard**\n",
    "\n",
    "**Random forest, multilayer perceptron, logistic regression**"
   ]
  },
  {
   "cell_type": "code",
   "execution_count": 58,
   "metadata": {},
   "outputs": [
    {
     "data": {
      "text/plain": [
       "0.9865329512893983"
      ]
     },
     "execution_count": 58,
     "metadata": {},
     "output_type": "execute_result"
    }
   ],
   "source": [
    "# ignores ConvergenceWarning in MLPClassifier.fit()\n",
    "filterwarnings('ignore')\n",
    "\n",
    "vc_hard = VotingClassifier(voting='hard', estimators=[\n",
    "    ('random_forest', rf),\n",
    "    ('multilayer_perceptron', mlp),\n",
    "    ('logistic_regression', lr)\n",
    "])\n",
    "\n",
    "vc_hard_pred = vc_hard.fit(X_train, y_train).predict(X_test)\n",
    "accuracy_score(vc_hard_pred, y_test)"
   ]
  },
  {
   "cell_type": "code",
   "execution_count": 59,
   "metadata": {},
   "outputs": [
    {
     "name": "stdout",
     "output_type": "stream",
     "text": [
      "              precision    recall  f1-score   support\n",
      "\n",
      "         bot       0.99      0.99      0.99      2487\n",
      "       human       0.98      0.98      0.98      1003\n",
      "\n",
      "    accuracy                           0.99      3490\n",
      "   macro avg       0.98      0.98      0.98      3490\n",
      "weighted avg       0.99      0.99      0.99      3490\n",
      "\n"
     ]
    }
   ],
   "source": [
    "print(classification_report(vc_hard_pred, y_test))"
   ]
  },
  {
   "cell_type": "markdown",
   "metadata": {},
   "source": [
    "### Voting Classifier\n",
    "\n",
    "**Voting: hard**\n",
    "\n",
    "**Random forest, multilayer perceptron, naive bayes, logistic regression**"
   ]
  },
  {
   "cell_type": "code",
   "execution_count": 60,
   "metadata": {},
   "outputs": [
    {
     "data": {
      "text/plain": [
       "0.9696275071633238"
      ]
     },
     "execution_count": 60,
     "metadata": {},
     "output_type": "execute_result"
    }
   ],
   "source": [
    "# ignores ConvergenceWarning in MLPClassifier.fit()\n",
    "filterwarnings('ignore')\n",
    "\n",
    "vc_hard = VotingClassifier(voting='hard', estimators=[\n",
    "    ('random_forest', rf),\n",
    "    ('multilayer_perceptron', mlp),\n",
    "    ('naive_bayes', gnb),\n",
    "    ('logistic_regression', lr)\n",
    "])\n",
    "\n",
    "vc_hard_pred = vc_hard.fit(X_train, y_train).predict(X_test)\n",
    "accuracy_score(vc_hard_pred, y_test)"
   ]
  },
  {
   "cell_type": "code",
   "execution_count": 61,
   "metadata": {},
   "outputs": [
    {
     "name": "stdout",
     "output_type": "stream",
     "text": [
      "              precision    recall  f1-score   support\n",
      "\n",
      "         bot       0.99      0.97      0.98      2556\n",
      "       human       0.91      0.98      0.95       934\n",
      "\n",
      "    accuracy                           0.97      3490\n",
      "   macro avg       0.95      0.97      0.96      3490\n",
      "weighted avg       0.97      0.97      0.97      3490\n",
      "\n"
     ]
    }
   ],
   "source": [
    "print(classification_report(vc_hard_pred, y_test))"
   ]
  },
  {
   "cell_type": "markdown",
   "metadata": {},
   "source": [
    "### Voting Classifier\n",
    "\n",
    "**Voting: soft**\n",
    "\n",
    "**Random forest, multilayer perceptron, naive bayes**"
   ]
  },
  {
   "cell_type": "code",
   "execution_count": 62,
   "metadata": {},
   "outputs": [
    {
     "data": {
      "text/plain": [
       "0.9828080229226361"
      ]
     },
     "execution_count": 62,
     "metadata": {},
     "output_type": "execute_result"
    }
   ],
   "source": [
    "# ignores ConvergenceWarning in MLPClassifier.fit()\n",
    "filterwarnings('ignore')\n",
    "\n",
    "vc_soft = VotingClassifier(voting='soft', estimators=[\n",
    "    ('random_forest', rf),\n",
    "    ('multilayer_perceptron', mlp),\n",
    "    ('naive_bayes', gnb)\n",
    "])\n",
    "\n",
    "vc_soft_pred = vc_soft.fit(X_train, y_train).predict(X_test)\n",
    "accuracy_score(vc_soft_pred, y_test)"
   ]
  },
  {
   "cell_type": "code",
   "execution_count": 63,
   "metadata": {},
   "outputs": [
    {
     "name": "stdout",
     "output_type": "stream",
     "text": [
      "              precision    recall  f1-score   support\n",
      "\n",
      "         bot       0.99      0.99      0.99      2488\n",
      "       human       0.97      0.97      0.97      1002\n",
      "\n",
      "    accuracy                           0.98      3490\n",
      "   macro avg       0.98      0.98      0.98      3490\n",
      "weighted avg       0.98      0.98      0.98      3490\n",
      "\n"
     ]
    }
   ],
   "source": [
    "print(classification_report(vc_soft_pred, y_test))"
   ]
  },
  {
   "cell_type": "markdown",
   "metadata": {},
   "source": [
    "### Voting Classifier\n",
    "\n",
    "**Voting: soft**\n",
    "\n",
    "**Random forest, multilayer perceptron, logistic regression**"
   ]
  },
  {
   "cell_type": "code",
   "execution_count": 64,
   "metadata": {},
   "outputs": [
    {
     "data": {
      "text/plain": [
       "0.9862464183381089"
      ]
     },
     "execution_count": 64,
     "metadata": {},
     "output_type": "execute_result"
    }
   ],
   "source": [
    "# ignores ConvergenceWarning in MLPClassifier.fit()\n",
    "filterwarnings('ignore')\n",
    "\n",
    "vc_soft = VotingClassifier(voting='soft', estimators=[\n",
    "    ('random_forest', rf),\n",
    "    ('multilayer_perceptron', mlp),\n",
    "    ('logistic_regression', lr)\n",
    "])\n",
    "\n",
    "vc_soft_pred = vc_soft.fit(X_train, y_train).predict(X_test)\n",
    "accuracy_score(vc_soft_pred, y_test)"
   ]
  },
  {
   "cell_type": "code",
   "execution_count": 65,
   "metadata": {},
   "outputs": [
    {
     "name": "stdout",
     "output_type": "stream",
     "text": [
      "              precision    recall  f1-score   support\n",
      "\n",
      "         bot       0.99      0.99      0.99      2486\n",
      "       human       0.98      0.98      0.98      1004\n",
      "\n",
      "    accuracy                           0.99      3490\n",
      "   macro avg       0.98      0.98      0.98      3490\n",
      "weighted avg       0.99      0.99      0.99      3490\n",
      "\n"
     ]
    }
   ],
   "source": [
    "print(classification_report(vc_soft_pred, y_test))"
   ]
  },
  {
   "cell_type": "markdown",
   "metadata": {},
   "source": [
    "### Voting Classifier\n",
    "\n",
    "**Voting: soft**\n",
    "\n",
    "**Random forest, multilayer perceptron, naive bayes, logistic regression**"
   ]
  },
  {
   "cell_type": "code",
   "execution_count": 66,
   "metadata": {},
   "outputs": [
    {
     "data": {
      "text/plain": [
       "0.979083094555874"
      ]
     },
     "execution_count": 66,
     "metadata": {},
     "output_type": "execute_result"
    }
   ],
   "source": [
    "# ignores ConvergenceWarning in MLPClassifier.fit()\n",
    "filterwarnings('ignore')\n",
    "\n",
    "vc_soft = VotingClassifier(voting='soft', estimators=[\n",
    "    ('random_forest', rf),\n",
    "    ('multilayer_perceptron', mlp),\n",
    "    ('naive_bayes', gnb),\n",
    "    ('logistic_regression', lr)\n",
    "])\n",
    "\n",
    "vc_soft_pred = vc_soft.fit(X_train, y_train).predict(X_test)\n",
    "accuracy_score(vc_soft_pred, y_test)"
   ]
  },
  {
   "cell_type": "code",
   "execution_count": 67,
   "metadata": {},
   "outputs": [
    {
     "name": "stdout",
     "output_type": "stream",
     "text": [
      "              precision    recall  f1-score   support\n",
      "\n",
      "         bot       0.99      0.98      0.99      2497\n",
      "       human       0.96      0.97      0.96       993\n",
      "\n",
      "    accuracy                           0.98      3490\n",
      "   macro avg       0.97      0.98      0.97      3490\n",
      "weighted avg       0.98      0.98      0.98      3490\n",
      "\n"
     ]
    }
   ],
   "source": [
    "print(classification_report(vc_soft_pred, y_test))"
   ]
  }
 ],
 "metadata": {
  "kernelspec": {
   "display_name": "Python 3",
   "language": "python",
   "name": "python3"
  },
  "language_info": {
   "codemirror_mode": {
    "name": "ipython",
    "version": 3
   },
   "file_extension": ".py",
   "mimetype": "text/x-python",
   "name": "python",
   "nbconvert_exporter": "python",
   "pygments_lexer": "ipython3",
   "version": "3.7.4"
  }
 },
 "nbformat": 4,
 "nbformat_minor": 2
}
