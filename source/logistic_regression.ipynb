{
 "cells": [
  {
   "cell_type": "markdown",
   "metadata": {},
   "source": [
    "## Notebook: logistic_regression.ipynb\n",
    "\n",
    "This notebook is used for building logistic regression classifiers."
   ]
  },
  {
   "cell_type": "code",
   "execution_count": 7,
   "metadata": {},
   "outputs": [],
   "source": [
    "import pandas as pd\n",
    "from sklearn.linear_model import LogisticRegression\n",
    "from sklearn.model_selection import train_test_split\n",
    "from sklearn.metrics import accuracy_score, classification_report"
   ]
  },
  {
   "cell_type": "markdown",
   "metadata": {},
   "source": [
    "### Data Preparation"
   ]
  },
  {
   "cell_type": "code",
   "execution_count": 8,
   "metadata": {},
   "outputs": [],
   "source": [
    "X_labels = ['followers_count','friends_count','favourites_count','verified', 'default_profile_image', 'statuses_count','listed_count']\n",
    "Y_label = 'identification'\n",
    "\n",
    "data = pd.read_csv('../datasets/all-datasets.csv')\n",
    "X = data[X_labels]\n",
    "y = data[Y_label]\n",
    "X_train, X_test, y_train, y_test = train_test_split(X, y, test_size=0.30, random_state=42)"
   ]
  },
  {
   "cell_type": "markdown",
   "metadata": {},
   "source": [
    "### Logistic Regression Classifier\n",
    "\n",
    "**Penalty = L1**"
   ]
  },
  {
   "cell_type": "code",
   "execution_count": 20,
   "metadata": {},
   "outputs": [
    {
     "data": {
      "text/plain": [
       "0.9017579575779251"
      ]
     },
     "execution_count": 20,
     "metadata": {},
     "output_type": "execute_result"
    }
   ],
   "source": [
    "logistic_regression_l1 = LogisticRegression(solver='liblinear', penalty='l1', random_state=0)\n",
    "l1_y_pred = logistic_regression_l1.fit(X_train, y_train).predict(X_test)\n",
    "accuracy_score(l1_y_pred, y_test)"
   ]
  },
  {
   "cell_type": "code",
   "execution_count": 21,
   "metadata": {},
   "outputs": [
    {
     "name": "stdout",
     "output_type": "stream",
     "text": [
      "              precision    recall  f1-score   support\n",
      "\n",
      "         bot       0.99      0.90      0.95     34462\n",
      "       human       0.33      0.87      0.48      1887\n",
      "\n",
      "    accuracy                           0.90     36349\n",
      "   macro avg       0.66      0.89      0.71     36349\n",
      "weighted avg       0.96      0.90      0.92     36349\n",
      "\n"
     ]
    }
   ],
   "source": [
    "print(classification_report(l1_y_pred, y_test))"
   ]
  },
  {
   "cell_type": "markdown",
   "metadata": {},
   "source": [
    "### Logistic Regression Classifier\n",
    "\n",
    "**Penalty = L2**"
   ]
  },
  {
   "cell_type": "code",
   "execution_count": 26,
   "metadata": {},
   "outputs": [
    {
     "data": {
      "text/plain": [
       "0.9009051143085092"
      ]
     },
     "execution_count": 26,
     "metadata": {},
     "output_type": "execute_result"
    }
   ],
   "source": [
    "logistic_regression_l2 = LogisticRegression(solver='liblinear', penalty='l2', random_state=0)\n",
    "l2_y_pred = logistic_regression_l2.fit(X_train, y_train).predict(X_test)\n",
    "accuracy_score(l2_y_pred, y_test)"
   ]
  },
  {
   "cell_type": "code",
   "execution_count": 24,
   "metadata": {},
   "outputs": [
    {
     "name": "stdout",
     "output_type": "stream",
     "text": [
      "              precision    recall  f1-score   support\n",
      "\n",
      "         bot       0.99      0.90      0.95     34613\n",
      "       human       0.31      0.89      0.46      1736\n",
      "\n",
      "    accuracy                           0.90     36349\n",
      "   macro avg       0.65      0.90      0.70     36349\n",
      "weighted avg       0.96      0.90      0.92     36349\n",
      "\n"
     ]
    }
   ],
   "source": [
    "print(classification_report(l2_y_pred, y_test))"
   ]
  }
 ],
 "metadata": {
  "kernelspec": {
   "display_name": "Python 3",
   "language": "python",
   "name": "python3"
  },
  "language_info": {
   "codemirror_mode": {
    "name": "ipython",
    "version": 3
   },
   "file_extension": ".py",
   "mimetype": "text/x-python",
   "name": "python",
   "nbconvert_exporter": "python",
   "pygments_lexer": "ipython3",
   "version": "3.7.4"
  }
 },
 "nbformat": 4,
 "nbformat_minor": 2
}
