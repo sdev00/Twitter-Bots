{
 "metadata": {
  "language_info": {
   "codemirror_mode": {
    "name": "ipython",
    "version": 3
   },
   "file_extension": ".py",
   "mimetype": "text/x-python",
   "name": "python",
   "nbconvert_exporter": "python",
   "pygments_lexer": "ipython3",
   "version": "3.8.5-final"
  },
  "orig_nbformat": 2,
  "kernelspec": {
   "name": "python3",
   "display_name": "Python 3"
  }
 },
 "nbformat": 4,
 "nbformat_minor": 2,
 "cells": [
  {
   "cell_type": "code",
   "execution_count": 4,
   "metadata": {},
   "outputs": [],
   "source": [
    "import requests\n",
    "import json\n",
    "import getpass\n",
    "import pandas as pd\n",
    "from pandas.io.json import json_normalize\n",
    "import time"
   ]
  },
  {
   "cell_type": "code",
   "execution_count": 5,
   "metadata": {},
   "outputs": [],
   "source": [
    "bearer_token = getpass.getpass()"
   ]
  },
  {
   "cell_type": "code",
   "execution_count": 6,
   "metadata": {},
   "outputs": [],
   "source": [
    "headers = {\n",
    "    'Authorization':'Bearer ' + bearer_token\n",
    "}"
   ]
  },
  {
   "cell_type": "code",
   "execution_count": 7,
   "metadata": {},
   "outputs": [],
   "source": [
    "midterm_2018_data = pd.read_json('../datasets/midterm-2018_processed_user_objects.json')"
   ]
  },
  {
   "cell_type": "code",
   "execution_count": 8,
   "metadata": {
    "tags": []
   },
   "outputs": [],
   "source": [
    "start = 4\n",
    "end = 11\n",
    "chunks = [midterm_2018_data['screen_name'][i:i + 300] for i in range(0, len(midterm_2018_data['screen_name']), 300)][start:end]\n",
    "for num, chunk in enumerate(chunks, start=start):\n",
    "    data = dict()\n",
    "    for username in chunk:\n",
    "        url = f'https://api.twitter.com/2/tweets/search/recent?query=from:{username}&tweet.fields=attachments,author_id,context_annotations,conversation_id,created_at,entities,geo,id,in_reply_to_user_id,lang,public_metrics,possibly_sensitive,referenced_tweets,source,text,withheld'\n",
    "        response = requests.request('GET',url,headers=headers)\n",
    "        tweets = response.json()\n",
    "        del tweets['meta']\n",
    "        data[username] = tweets\n",
    "    data2 = list()\n",
    "    for user in data:\n",
    "        data[user]['screen_name'] = user\n",
    "        if('data' in data[user]):\n",
    "            data[user]['recent_tweets'] = len(data[user]['data'])\n",
    "        else:\n",
    "            data[user]['recent_tweets'] = 0\n",
    "        data2.append(data[user])\n",
    "    with open(f'../tweets/midterm_2018_{num}.json','w') as outfile:\n",
    "        json.dump(data2, outfile)\n",
    "    time.sleep(60*15)"
   ]
  },
  {
   "cell_type": "code",
   "execution_count": null,
   "metadata": {},
   "outputs": [],
   "source": []
  }
 ]
}