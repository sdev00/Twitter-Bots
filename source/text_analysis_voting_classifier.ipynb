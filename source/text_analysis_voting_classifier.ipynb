{
 "cells": [
  {
   "cell_type": "markdown",
   "metadata": {},
   "source": [
    "## Notebook: text_analysis_voting_classifier.ipynb\n",
    "\n",
    "This notebook is used for building a voting classifier from the best performing version of the other models.\n",
    "\n",
    "**Uses updated dataset with text analysis.**"
   ]
  },
  {
   "cell_type": "code",
   "execution_count": 31,
   "metadata": {},
   "outputs": [],
   "source": [
    "import pandas as pd\n",
    "from sklearn.ensemble import RandomForestClassifier, VotingClassifier\n",
    "from sklearn.neural_network import MLPClassifier\n",
    "from sklearn.naive_bayes import GaussianNB\n",
    "from sklearn.linear_model import LogisticRegression\n",
    "\n",
    "from sklearn.model_selection import train_test_split\n",
    "from sklearn.metrics import accuracy_score, classification_report\n",
    "\n",
    "from warnings import filterwarnings"
   ]
  },
  {
   "cell_type": "markdown",
   "metadata": {},
   "source": [
    "### Data Preparation"
   ]
  },
  {
   "cell_type": "code",
   "execution_count": 32,
   "metadata": {},
   "outputs": [],
   "source": [
    "data = pd.read_csv('../datasets/MIB/mib_processed_text_standardized.csv')\n",
    "X_labels = list(data.columns)\n",
    "Y_label = 'identification'\n",
    "\n",
    "# use all except identification for inputs\n",
    "X = data.drop(columns=[Y_label])\n",
    "y = data[Y_label]\n",
    "X_train, X_test, y_train, y_test = train_test_split(X, y, test_size=0.30, random_state=42)"
   ]
  },
  {
   "cell_type": "markdown",
   "metadata": {},
   "source": [
    "### Classifier Initialization\n",
    "\n",
    "**Num estimators = 4**\n",
    "\n",
    "**Random forest, multilayer perceptron, naive bayes, logistic regression**"
   ]
  },
  {
   "cell_type": "code",
   "execution_count": 33,
   "metadata": {},
   "outputs": [],
   "source": [
    "rf = RandomForestClassifier(n_estimators=5, max_depth=6, random_state=0)\n",
    "mlp = MLPClassifier(solver='adam', hidden_layer_sizes=(20, 20), alpha=1e-4, activation='relu', max_iter=300, random_state=1)\n",
    "gnb = GaussianNB()\n",
    "lr = LogisticRegression(solver='liblinear', penalty='l1', random_state=0)"
   ]
  },
  {
   "cell_type": "markdown",
   "metadata": {},
   "source": [
    "### Voting Classifier\n",
    "\n",
    "**Voting: hard**\n",
    "\n",
    "**Random forest, multilayer perceptron, naive bayes**"
   ]
  },
  {
   "cell_type": "code",
   "execution_count": 34,
   "metadata": {},
   "outputs": [
    {
     "data": {
      "text/plain": [
       "0.9859108781127129"
      ]
     },
     "execution_count": 34,
     "metadata": {},
     "output_type": "execute_result"
    }
   ],
   "source": [
    "# ignores ConvergenceWarning in MLPClassifier.fit()\n",
    "filterwarnings('ignore')\n",
    "\n",
    "vc_hard = VotingClassifier(voting='hard', estimators=[\n",
    "    ('random_forest', rf),\n",
    "    ('multilayer_perceptron', mlp),\n",
    "    ('naive_bayes', gnb)\n",
    "])\n",
    "\n",
    "vc_hard_pred = vc_hard.fit(X_train, y_train).predict(X_test)\n",
    "accuracy_score(vc_hard_pred, y_test)"
   ]
  },
  {
   "cell_type": "code",
   "execution_count": 35,
   "metadata": {},
   "outputs": [
    {
     "name": "stdout",
     "output_type": "stream",
     "text": [
      "              precision    recall  f1-score   support\n",
      "\n",
      "         bot       0.99      0.99      0.99      2041\n",
      "       human       0.98      0.98      0.98      1011\n",
      "\n",
      "    accuracy                           0.99      3052\n",
      "   macro avg       0.98      0.98      0.98      3052\n",
      "weighted avg       0.99      0.99      0.99      3052\n",
      "\n"
     ]
    }
   ],
   "source": [
    "print(classification_report(vc_hard_pred, y_test))"
   ]
  },
  {
   "cell_type": "markdown",
   "metadata": {},
   "source": [
    "### Voting Classifier\n",
    "\n",
    "**Voting: hard**\n",
    "\n",
    "**Random forest, multilayer perceptron, logistic regression**"
   ]
  },
  {
   "cell_type": "code",
   "execution_count": 36,
   "metadata": {},
   "outputs": [
    {
     "data": {
      "text/plain": [
       "0.9832896461336829"
      ]
     },
     "execution_count": 36,
     "metadata": {},
     "output_type": "execute_result"
    }
   ],
   "source": [
    "# ignores ConvergenceWarning in MLPClassifier.fit()\n",
    "filterwarnings('ignore')\n",
    "\n",
    "vc_hard = VotingClassifier(voting='hard', estimators=[\n",
    "    ('random_forest', rf),\n",
    "    ('multilayer_perceptron', mlp),\n",
    "    ('logistic_regression', lr)\n",
    "])\n",
    "\n",
    "vc_hard_pred = vc_hard.fit(X_train, y_train).predict(X_test)\n",
    "accuracy_score(vc_hard_pred, y_test)"
   ]
  },
  {
   "cell_type": "code",
   "execution_count": 37,
   "metadata": {},
   "outputs": [
    {
     "name": "stdout",
     "output_type": "stream",
     "text": [
      "              precision    recall  f1-score   support\n",
      "\n",
      "         bot       0.99      0.99      0.99      2051\n",
      "       human       0.97      0.98      0.97      1001\n",
      "\n",
      "    accuracy                           0.98      3052\n",
      "   macro avg       0.98      0.98      0.98      3052\n",
      "weighted avg       0.98      0.98      0.98      3052\n",
      "\n"
     ]
    }
   ],
   "source": [
    "print(classification_report(vc_hard_pred, y_test))"
   ]
  },
  {
   "cell_type": "markdown",
   "metadata": {},
   "source": [
    "### Voting Classifier\n",
    "\n",
    "**Voting: hard**\n",
    "\n",
    "**Random forest, multilayer perceptron, naive bayes, logistic regression**"
   ]
  },
  {
   "cell_type": "code",
   "execution_count": 38,
   "metadata": {},
   "outputs": [
    {
     "data": {
      "text/plain": [
       "0.9819790301441678"
      ]
     },
     "execution_count": 38,
     "metadata": {},
     "output_type": "execute_result"
    }
   ],
   "source": [
    "# ignores ConvergenceWarning in MLPClassifier.fit()\n",
    "filterwarnings('ignore')\n",
    "\n",
    "vc_hard = VotingClassifier(voting='hard', estimators=[\n",
    "    ('random_forest', rf),\n",
    "    ('multilayer_perceptron', mlp),\n",
    "    ('naive_bayes', gnb),\n",
    "    ('logistic_regression', lr)\n",
    "])\n",
    "\n",
    "vc_hard_pred = vc_hard.fit(X_train, y_train).predict(X_test)\n",
    "accuracy_score(vc_hard_pred, y_test)"
   ]
  },
  {
   "cell_type": "code",
   "execution_count": 39,
   "metadata": {},
   "outputs": [
    {
     "name": "stdout",
     "output_type": "stream",
     "text": [
      "              precision    recall  f1-score   support\n",
      "\n",
      "         bot       0.99      0.98      0.99      2063\n",
      "       human       0.96      0.98      0.97       989\n",
      "\n",
      "    accuracy                           0.98      3052\n",
      "   macro avg       0.98      0.98      0.98      3052\n",
      "weighted avg       0.98      0.98      0.98      3052\n",
      "\n"
     ]
    }
   ],
   "source": [
    "print(classification_report(vc_hard_pred, y_test))"
   ]
  },
  {
   "cell_type": "markdown",
   "metadata": {},
   "source": [
    "### Voting Classifier\n",
    "\n",
    "**Voting: soft**\n",
    "\n",
    "**Random forest, multilayer perceptron, naive bayes**"
   ]
  },
  {
   "cell_type": "code",
   "execution_count": 40,
   "metadata": {},
   "outputs": [
    {
     "data": {
      "text/plain": [
       "0.9875491480996068"
      ]
     },
     "execution_count": 40,
     "metadata": {},
     "output_type": "execute_result"
    }
   ],
   "source": [
    "# ignores ConvergenceWarning in MLPClassifier.fit()\n",
    "filterwarnings('ignore')\n",
    "\n",
    "vc_soft = VotingClassifier(voting='soft', estimators=[\n",
    "    ('random_forest', rf),\n",
    "    ('multilayer_perceptron', mlp),\n",
    "    ('naive_bayes', gnb)\n",
    "])\n",
    "\n",
    "vc_soft_pred = vc_soft.fit(X_train, y_train).predict(X_test)\n",
    "accuracy_score(vc_soft_pred, y_test)"
   ]
  },
  {
   "cell_type": "code",
   "execution_count": 41,
   "metadata": {},
   "outputs": [
    {
     "name": "stdout",
     "output_type": "stream",
     "text": [
      "              precision    recall  f1-score   support\n",
      "\n",
      "         bot       0.99      0.99      0.99      2038\n",
      "       human       0.99      0.98      0.98      1014\n",
      "\n",
      "    accuracy                           0.99      3052\n",
      "   macro avg       0.99      0.98      0.99      3052\n",
      "weighted avg       0.99      0.99      0.99      3052\n",
      "\n"
     ]
    }
   ],
   "source": [
    "print(classification_report(vc_soft_pred, y_test))"
   ]
  },
  {
   "cell_type": "markdown",
   "metadata": {},
   "source": [
    "### Voting Classifier\n",
    "\n",
    "**Voting: soft**\n",
    "\n",
    "**Random forest, multilayer perceptron, logistic regression**"
   ]
  },
  {
   "cell_type": "code",
   "execution_count": 42,
   "metadata": {},
   "outputs": [
    {
     "data": {
      "text/plain": [
       "0.9839449541284404"
      ]
     },
     "execution_count": 42,
     "metadata": {},
     "output_type": "execute_result"
    }
   ],
   "source": [
    "# ignores ConvergenceWarning in MLPClassifier.fit()\n",
    "filterwarnings('ignore')\n",
    "\n",
    "vc_soft = VotingClassifier(voting='soft', estimators=[\n",
    "    ('random_forest', rf),\n",
    "    ('multilayer_perceptron', mlp),\n",
    "    ('logistic_regression', lr)\n",
    "])\n",
    "\n",
    "vc_soft_pred = vc_soft.fit(X_train, y_train).predict(X_test)\n",
    "accuracy_score(vc_soft_pred, y_test)"
   ]
  },
  {
   "cell_type": "code",
   "execution_count": 43,
   "metadata": {},
   "outputs": [
    {
     "name": "stdout",
     "output_type": "stream",
     "text": [
      "              precision    recall  f1-score   support\n",
      "\n",
      "         bot       0.99      0.99      0.99      2051\n",
      "       human       0.97      0.98      0.98      1001\n",
      "\n",
      "    accuracy                           0.98      3052\n",
      "   macro avg       0.98      0.98      0.98      3052\n",
      "weighted avg       0.98      0.98      0.98      3052\n",
      "\n"
     ]
    }
   ],
   "source": [
    "print(classification_report(vc_soft_pred, y_test))"
   ]
  },
  {
   "cell_type": "markdown",
   "metadata": {},
   "source": [
    "### Voting Classifier\n",
    "\n",
    "**Voting: soft**\n",
    "\n",
    "**Random forest, multilayer perceptron, naive bayes, logistic regression**"
   ]
  },
  {
   "cell_type": "code",
   "execution_count": 44,
   "metadata": {},
   "outputs": [
    {
     "data": {
      "text/plain": [
       "0.981651376146789"
      ]
     },
     "execution_count": 44,
     "metadata": {},
     "output_type": "execute_result"
    }
   ],
   "source": [
    "# ignores ConvergenceWarning in MLPClassifier.fit()\n",
    "filterwarnings('ignore')\n",
    "\n",
    "vc_soft = VotingClassifier(voting='soft', estimators=[\n",
    "    ('random_forest', rf),\n",
    "    ('multilayer_perceptron', mlp),\n",
    "    ('naive_bayes', gnb),\n",
    "    ('logistic_regression', lr)\n",
    "])\n",
    "\n",
    "vc_soft_pred = vc_soft.fit(X_train, y_train).predict(X_test)\n",
    "accuracy_score(vc_soft_pred, y_test)"
   ]
  },
  {
   "cell_type": "code",
   "execution_count": 45,
   "metadata": {},
   "outputs": [
    {
     "name": "stdout",
     "output_type": "stream",
     "text": [
      "              precision    recall  f1-score   support\n",
      "\n",
      "         bot       0.99      0.99      0.99      2042\n",
      "       human       0.97      0.97      0.97      1010\n",
      "\n",
      "    accuracy                           0.98      3052\n",
      "   macro avg       0.98      0.98      0.98      3052\n",
      "weighted avg       0.98      0.98      0.98      3052\n",
      "\n"
     ]
    }
   ],
   "source": [
    "print(classification_report(vc_soft_pred, y_test))"
   ]
  }
 ],
 "metadata": {
  "kernelspec": {
   "display_name": "Python 3",
   "language": "python",
   "name": "python3"
  },
  "language_info": {
   "codemirror_mode": {
    "name": "ipython",
    "version": 3
   },
   "file_extension": ".py",
   "mimetype": "text/x-python",
   "name": "python",
   "nbconvert_exporter": "python",
   "pygments_lexer": "ipython3",
   "version": "3.7.4"
  }
 },
 "nbformat": 4,
 "nbformat_minor": 2
}
